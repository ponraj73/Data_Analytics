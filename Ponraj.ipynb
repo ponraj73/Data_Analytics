{
  "nbformat": 4,
  "nbformat_minor": 0,
  "metadata": {
    "colab": {
      "provenance": [],
      "authorship_tag": "ABX9TyMCV67h4JZCZhxhGL+Jc90M",
      "include_colab_link": true
    },
    "kernelspec": {
      "name": "python3",
      "display_name": "Python 3"
    },
    "language_info": {
      "name": "python"
    }
  },
  "cells": [
    {
      "cell_type": "markdown",
      "metadata": {
        "id": "view-in-github",
        "colab_type": "text"
      },
      "source": [
        "<a href=\"https://colab.research.google.com/github/ponraj73/Class/blob/main/Ponraj.ipynb\" target=\"_parent\"><img src=\"https://colab.research.google.com/assets/colab-badge.svg\" alt=\"Open In Colab\"/></a>"
      ]
    },
    {
      "cell_type": "code",
      "source": [
        "\n",
        "#Print concatenated string\n",
        "a = \"Hello!\"\n",
        "b = \"Nice to meet you..\"\n",
        "print('\"',a+b,'\"')"
      ],
      "metadata": {
        "colab": {
          "base_uri": "https://localhost:8080/"
        },
        "id": "oU5IU-W0Iuld",
        "outputId": "5e625380-590f-435d-9227-141cfd9f3440"
      },
      "execution_count": null,
      "outputs": [
        {
          "output_type": "stream",
          "name": "stdout",
          "text": [
            "\" Hello!Nice to meet you.. \"\n"
          ]
        }
      ]
    },
    {
      "cell_type": "code",
      "source": [
        "#Variables and Types\n",
        "a = 55\n",
        "b = \"Day\"\n",
        "c = 3.56\n",
        "print(\"a is a \",type(a))\n",
        "print(\"b is a \",type(b))\n",
        "print(\"c is a \",type(c))"
      ],
      "metadata": {
        "id": "KFAWVt67-stj"
      },
      "execution_count": null,
      "outputs": []
    },
    {
      "cell_type": "code",
      "source": [
        "#slicing strings and other operations\n",
        "\n",
        "a = \"TamilNadu\"\n",
        "print(\"Length =\",len(a))\n",
        "print(a[2:8])\n",
        "print(a[ :9:2])\n",
        "print(a[::-2])\n",
        "print(a.upper())\n",
        "print(a.lower())"
      ],
      "metadata": {
        "id": "ZambEFCx_rB3"
      },
      "execution_count": null,
      "outputs": []
    },
    {
      "cell_type": "code",
      "source": [
        "#Arithematic operators\n",
        "a=100\n",
        "b=10\n",
        "print (\"The Sum =\",a+b)\n",
        "print (\"The Difference =\",a-b)\n",
        "print (\"The Product =\",a*b)\n",
        "print (\"The Quotient =\",a/b)\n",
        "print (\"The Remainder = \",a%30)\n",
        "print (\"The Exponent =\",a**2)\n",
        "print (\"The Floor Division =\",a//30)"
      ],
      "metadata": {
        "id": "MmpXtoAh_rtW"
      },
      "execution_count": null,
      "outputs": []
    },
    {
      "cell_type": "code",
      "source": [
        "#Relational operators\n",
        "a= 56\n",
        "b= 75\n",
        "print (\"A =\",a,\"and B =\",b)\n",
        "print (\"The a==b=\",a==b)\n",
        "print (\"The a>b=\",a>b)\n",
        "print (\"The a<b=\",a<b)\n",
        "print (\"The a>=b=\",a>=b)\n",
        "print (\"The a<=b=\",a<=0)\n",
        "print (\"The a!=b=\",a!=b)"
      ],
      "metadata": {
        "id": "ZYDZXf1B_rhx"
      },
      "execution_count": null,
      "outputs": []
    },
    {
      "cell_type": "code",
      "source": [
        "#Assignment operators\n",
        "x= 93\n",
        "x+=20\n",
        "print (\"The x+=20 =\", x)\n",
        "x-=5\n",
        "print (\"The x-=5 is =\",x)\n",
        "x*=5\n",
        "print (\"The x*=5 is =\",x)\n",
        "x/=2\n",
        "print (\"The x /= 2 is = \",x)\n",
        "x%=3\n",
        "print (\"The x %= 3 is =\",x)\n",
        "x**=2\n",
        "print (\"The x**=2 is =\",x)\n",
        "x//=3\n",
        "print (\"The x//=3 is =\",x)"
      ],
      "metadata": {
        "id": "kD0tR9ql842w"
      },
      "execution_count": null,
      "outputs": []
    },
    {
      "cell_type": "markdown",
      "source": [
        "Conditional statements\n",
        "\n",
        "If else"
      ],
      "metadata": {
        "id": "GZbJ5q6oNDBz"
      }
    },
    {
      "cell_type": "code",
      "source": [
        "a = 200\n",
        "b = 33\n",
        "if b > a:\n",
        "  print(\"b is greater than a\")\n",
        "else:\n",
        "  print(\"b is not greater than a\")"
      ],
      "metadata": {
        "id": "KuJM_pFpM7U6"
      },
      "execution_count": null,
      "outputs": []
    },
    {
      "cell_type": "code",
      "source": [
        "a = int(input(\"Enter Num1:\"))\n",
        "b = int(input(\"Enter Num2:\"))\n",
        "if b > a:\n",
        "  print(\"b is greater than a\")\n",
        "elif a == b:\n",
        "  print(\"a and b are equal\")\n",
        "else:\n",
        "  print(\"a is greater than b\")"
      ],
      "metadata": {
        "id": "8D6Hzbm0M77p"
      },
      "execution_count": null,
      "outputs": []
    },
    {
      "cell_type": "code",
      "source": [
        "\n",
        "#Nested if statement\n",
        "\n",
        "x = 51\n",
        "if x > 20:\n",
        "  print(\"Above twenty\")\n",
        "  if x > 30:\n",
        "    print(\"and also above 30!\")\n",
        "  else:\n",
        "    print(\"but not above 30.\")"
      ],
      "metadata": {
        "id": "sYL_5fSHM8MJ"
      },
      "execution_count": null,
      "outputs": []
    },
    {
      "cell_type": "markdown",
      "source": [
        "While loop"
      ],
      "metadata": {
        "id": "pifH-7fIRhfn"
      }
    },
    {
      "cell_type": "code",
      "source": [
        "i = 0\n",
        "while i < 4:\n",
        "    i += 1\n",
        "    print(i)\n",
        "else:\n",
        "    print(\"End\")"
      ],
      "metadata": {
        "id": "Jtx96-j7Rcu6"
      },
      "execution_count": null,
      "outputs": []
    },
    {
      "cell_type": "code",
      "source": [
        "i = 0\n",
        "while (i <= 100 and i % 7 != 0):\n",
        "  i += 1\n",
        "else:\n",
        "  if (i % 7 == 0):\n",
        "    print(\"The 1st no divisible by 7 is\", i)\n",
        "  else:\n",
        "    print(\"No number is divisible by 7\")"
      ],
      "metadata": {
        "id": "6r6D6rsYRc3P"
      },
      "execution_count": null,
      "outputs": []
    },
    {
      "cell_type": "markdown",
      "source": [
        "For loop"
      ],
      "metadata": {
        "id": "ZfXKH_Q6UZ6e"
      }
    },
    {
      "cell_type": "code",
      "source": [
        "lang = 'PYTHON'\n",
        "\n",
        "for x in lang:\n",
        "    print(x)"
      ],
      "metadata": {
        "id": "aUhrwiFvUbdg"
      },
      "execution_count": null,
      "outputs": []
    },
    {
      "cell_type": "code",
      "source": [
        "my_dict = {'name':'apple', 'category':'fruits'}\n",
        "\n",
        "for x in my_dict:\n",
        " print(x, ':', my_dict[x])"
      ],
      "metadata": {
        "id": "XRO0IzgyReZ6"
      },
      "execution_count": null,
      "outputs": []
    },
    {
      "cell_type": "code",
      "source": [
        "my_set = {'apple', 'banana', 'cherry'}\n",
        "\n",
        "for x in my_set:\n",
        " print(x)"
      ],
      "metadata": {
        "id": "kvFTsPbpWdaT"
      },
      "execution_count": null,
      "outputs": []
    },
    {
      "cell_type": "markdown",
      "source": [
        "Function"
      ],
      "metadata": {
        "id": "kXb1H6arWjCx"
      }
    },
    {
      "cell_type": "code",
      "execution_count": null,
      "metadata": {
        "id": "p9iZffVXBbEP"
      },
      "outputs": [],
      "source": [
        "#To get details from the user using function\n",
        "def Details():\n",
        "  a = input(\"Enter Your Name :\")\n",
        "  b = int(input(\"Enter Your Age :\"))\n",
        "  print(\"NAME :\",a)\n",
        "  print(\"AGE :\",b)\n",
        "  return"
      ]
    },
    {
      "cell_type": "code",
      "source": [
        "Details() #call the function"
      ],
      "metadata": {
        "id": "lbvm2d94C05s"
      },
      "execution_count": null,
      "outputs": []
    },
    {
      "cell_type": "code",
      "source": [
        "#to add two numbers\n",
        "def add_numbers(num1, num2):\n",
        "    sum = num1 + num2\n",
        "    print(\"Sum: \", sum)"
      ],
      "metadata": {
        "id": "JycjhFCDW5-R"
      },
      "execution_count": null,
      "outputs": []
    },
    {
      "cell_type": "code",
      "source": [
        "add_numbers(27,76) #call the function and give the values on it"
      ],
      "metadata": {
        "id": "KzIEY6OQXOWS"
      },
      "execution_count": null,
      "outputs": []
    },
    {
      "cell_type": "code",
      "source": [
        "\n",
        "#to find the given no is odd or even\n",
        "def even_odd(x):\n",
        "    if (x % 2 == 0):\n",
        "        print(x ,\"is even\")\n",
        "    else:\n",
        "        print(x ,\"is odd\")"
      ],
      "metadata": {
        "id": "2B_ZvZNFXnxx"
      },
      "execution_count": null,
      "outputs": []
    },
    {
      "cell_type": "code",
      "source": [
        "even_odd(5)\n",
        "even_odd(46)"
      ],
      "metadata": {
        "id": "rCXyNpcZYDNA"
      },
      "execution_count": null,
      "outputs": []
    },
    {
      "cell_type": "markdown",
      "source": [
        "List"
      ],
      "metadata": {
        "id": "NBWGn_dtZFwu"
      }
    },
    {
      "cell_type": "code",
      "source": [
        "lst_names = [] #Empty list\n",
        "lst_cities = [\"Bangalore\", \"Chennai\", \"SFO\", \"Beijing\"]\n",
        "# append to existing list\n",
        "lst_cities.append(\"NYC\")\n",
        "# list with some integer values\n",
        "lst_age = [10, 20]\n",
        "# append an integer to the existing list\n",
        "lst_age.append(30)\n",
        "# iterate each value in a list\n",
        "for val in lst_cities:\n",
        "    print(val)\n",
        "# check if a value exists in a list\n",
        "if \"Chennai\" in lst_cities:\n",
        "    print(\"yes\")\n",
        "else:\n",
        "    print(\"no\")\n",
        "lst_cities.remove(\"SFO\")\n",
        "print(lst_cities)\n",
        "lst_cities.clear()\n",
        "print (lst_cities)"
      ],
      "metadata": {
        "id": "KSbPgsxpYhri"
      },
      "execution_count": null,
      "outputs": []
    },
    {
      "cell_type": "markdown",
      "source": [
        "Set"
      ],
      "metadata": {
        "id": "qK4JC6ySbZ1O"
      }
    },
    {
      "cell_type": "code",
      "source": [
        "set_names = () #Empty set\n",
        "# Set with some string values in it\n",
        "set_cities = [\"Bangalore\", \"Chennai\", \"SFO\", \"Beijing\"]\n",
        "# append to existing list\n",
        "set_cities.append(\"NYC\")\n",
        "# list with some integer values\n",
        "set_age = [10, 20]\n",
        "# append an integer to the existing list\n",
        "set_age.append(30)\n",
        "print(set_cities)\n",
        "print(set_age)\n",
        "print(\"Chennai\" in set_cities)\n",
        "print(\"Chennai\" not in set_cities)"
      ],
      "metadata": {
        "id": "dm65SHzbbYZc"
      },
      "execution_count": null,
      "outputs": []
    }
  ]
}