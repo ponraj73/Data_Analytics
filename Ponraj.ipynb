{
  "nbformat": 4,
  "nbformat_minor": 0,
  "metadata": {
    "colab": {
      "provenance": [],
      "authorship_tag": "ABX9TyPrcXBOyXfgvdwa7HCwF/wh",
      "include_colab_link": true
    },
    "kernelspec": {
      "name": "python3",
      "display_name": "Python 3"
    },
    "language_info": {
      "name": "python"
    }
  },
  "cells": [
    {
      "cell_type": "markdown",
      "metadata": {
        "id": "view-in-github",
        "colab_type": "text"
      },
      "source": [
        "<a href=\"https://colab.research.google.com/github/ponraj73/Class/blob/main/Ponraj.ipynb\" target=\"_parent\"><img src=\"https://colab.research.google.com/assets/colab-badge.svg\" alt=\"Open In Colab\"/></a>"
      ]
    },
    {
      "cell_type": "code",
      "source": [
        "a = \"Hello!!\"\n",
        "b = \"Nice to meet you..\"\n",
        "print('\"',a+b,'\"')"
      ],
      "metadata": {
        "colab": {
          "base_uri": "https://localhost:8080/"
        },
        "id": "oU5IU-W0Iuld",
        "outputId": "7d2ac04b-307c-4c1e-c9a0-1d9c41d3dea5"
      },
      "execution_count": 10,
      "outputs": [
        {
          "output_type": "stream",
          "name": "stdout",
          "text": [
            "\" Hello!!Nice to meet you.. \"\n"
          ]
        }
      ]
    },
    {
      "cell_type": "code",
      "source": [
        "a = int(input(\"Enter Num1 :\"))\n",
        "b = int(input(\"Enter Num2 :\"))\n",
        "if b > a:\n",
        "  print(\"b is greater than a\")\n",
        "elif a == b:\n",
        "    print(\"a and b are equal\")\n",
        "else:\n",
        "      print(\"a is greater than b\")"
      ],
      "metadata": {
        "id": "aqTnvyhPJcVt"
      },
      "execution_count": null,
      "outputs": []
    },
    {
      "cell_type": "code",
      "execution_count": 8,
      "metadata": {
        "id": "p9iZffVXBbEP"
      },
      "outputs": [],
      "source": [
        "#To get details from the user using function\n",
        "def Details():\n",
        "  a = input(\"Enter Your Name :\")\n",
        "  b = int(input(\"Enter Your Age :\"))\n",
        "  print(\"NAME :\",a)\n",
        "  print(\"AGE :\",b)\n",
        "  return"
      ]
    },
    {
      "cell_type": "code",
      "source": [
        "Details()"
      ],
      "metadata": {
        "colab": {
          "base_uri": "https://localhost:8080/"
        },
        "id": "lbvm2d94C05s",
        "outputId": "c1981e8a-c611-4e2e-aefb-963dbc1ba9d7"
      },
      "execution_count": 9,
      "outputs": [
        {
          "output_type": "stream",
          "name": "stdout",
          "text": [
            "Enter Your Name :Ponraj\n",
            "Enter Your Age :20\n",
            "NAME : Ponraj\n",
            "AGE : 20\n"
          ]
        }
      ]
    },
    {
      "cell_type": "code",
      "source": [],
      "metadata": {
        "id": "HIGhepiNHJUQ"
      },
      "execution_count": null,
      "outputs": []
    }
  ]
}