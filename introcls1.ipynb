{
  "nbformat": 4,
  "nbformat_minor": 0,
  "metadata": {
    "colab": {
      "provenance": [],
      "authorship_tag": "ABX9TyPqcqbazH20O4BfXqGqfUuT",
      "include_colab_link": true
    },
    "kernelspec": {
      "name": "python3",
      "display_name": "Python 3"
    },
    "language_info": {
      "name": "python"
    }
  },
  "cells": [
    {
      "cell_type": "markdown",
      "metadata": {
        "id": "view-in-github",
        "colab_type": "text"
      },
      "source": [
        "<a href=\"https://colab.research.google.com/github/ponraj73/Class/blob/main/introcls1.ipynb\" target=\"_parent\"><img src=\"https://colab.research.google.com/assets/colab-badge.svg\" alt=\"Open In Colab\"/></a>"
      ]
    },
    {
      "cell_type": "code",
      "execution_count": null,
      "metadata": {
        "id": "kLpI66lPj8uf"
      },
      "outputs": [],
      "source": [
        "! pip install google-colab"
      ]
    },
    {
      "cell_type": "code",
      "source": [
        "from google.colab import drive"
      ],
      "metadata": {
        "id": "StPiKxW8kvJz"
      },
      "execution_count": 3,
      "outputs": []
    },
    {
      "cell_type": "code",
      "source": [
        "drive.mount('/content/drive')"
      ],
      "metadata": {
        "id": "ZFSwUBxllOIl"
      },
      "execution_count": null,
      "outputs": []
    },
    {
      "cell_type": "code",
      "source": [
        "! ls -ltr /content/drive/MyDrive"
      ],
      "metadata": {
        "id": "jHSbUg24m6-M"
      },
      "execution_count": null,
      "outputs": []
    },
    {
      "cell_type": "code",
      "source": [
        "! ls -ltr /content/drive/MyDrive | grep *.xlsx"
      ],
      "metadata": {
        "id": "zadrWy-Fn3T-"
      },
      "execution_count": 14,
      "outputs": []
    },
    {
      "cell_type": "code",
      "source": [
        "! pip install Pandas"
      ],
      "metadata": {
        "id": "qAdcFm93qBv3"
      },
      "execution_count": null,
      "outputs": []
    },
    {
      "cell_type": "code",
      "source": [
        "! pip install Numpy"
      ],
      "metadata": {
        "id": "8hfag1FMr3CP"
      },
      "execution_count": null,
      "outputs": []
    },
    {
      "cell_type": "code",
      "source": [
        "! pip install BeautifulSoup4"
      ],
      "metadata": {
        "id": "O22fTKyhsRNB"
      },
      "execution_count": null,
      "outputs": []
    },
    {
      "cell_type": "code",
      "source": [
        "! pip install NLTK"
      ],
      "metadata": {
        "id": "nyWfB6nfsqXA"
      },
      "execution_count": null,
      "outputs": []
    },
    {
      "cell_type": "code",
      "source": [
        "! pip install scikit-learn"
      ],
      "metadata": {
        "id": "or_cF767tFM6"
      },
      "execution_count": null,
      "outputs": []
    },
    {
      "cell_type": "code",
      "source": [
        "! pip install Tensorflow"
      ],
      "metadata": {
        "id": "zU7RiIMhuBKi"
      },
      "execution_count": null,
      "outputs": []
    },
    {
      "cell_type": "code",
      "source": [
        "! pip install Matplotlib"
      ],
      "metadata": {
        "id": "dn1flQ-LuVPB"
      },
      "execution_count": null,
      "outputs": []
    },
    {
      "cell_type": "code",
      "source": [
        "! pip install Seaborn"
      ],
      "metadata": {
        "id": "vw6ZUbofup14"
      },
      "execution_count": null,
      "outputs": []
    },
    {
      "cell_type": "code",
      "source": [
        "! pip install Plotly"
      ],
      "metadata": {
        "id": "67YdsD1Huysu"
      },
      "execution_count": null,
      "outputs": []
    },
    {
      "cell_type": "code",
      "source": [
        "!pip install torch torchvision -U"
      ],
      "metadata": {
        "id": "h2tw2kccu88V"
      },
      "execution_count": null,
      "outputs": []
    },
    {
      "cell_type": "code",
      "source": [],
      "metadata": {
        "id": "O9CW_FGiwYF9"
      },
      "execution_count": null,
      "outputs": []
    }
  ]
}