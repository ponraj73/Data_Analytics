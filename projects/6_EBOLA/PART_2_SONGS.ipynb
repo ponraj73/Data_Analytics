{
  "nbformat": 4,
  "nbformat_minor": 0,
  "metadata": {
    "colab": {
      "provenance": []
    },
    "kernelspec": {
      "name": "python3",
      "display_name": "Python 3"
    },
    "language_info": {
      "name": "python"
    }
  },
  "cells": [
    {
      "cell_type": "markdown",
      "source": [
        "####MINI PROJECT 6 - EBOLA"
      ],
      "metadata": {
        "id": "V1ih9p3JUoKo"
      }
    },
    {
      "cell_type": "markdown",
      "source": [
        "***Part II***     \n",
        "1. Read \"song.csv\" into a dataframe and then produce the following output.\n",
        "Write Output For Ranked Songs By its Highest Frequency. Whichever song won a particular rank (say 2) with maximum frequency takes that place. For example, Mysong1 won rank 1 for two different years (achieved maximum frequency for that particular rank) and so in output (see row 1 in Output expected below), it should appear as Mysong1 with rank 1 and count 2..\n",
        "(Note. in the same year, now two songs have same rank.)           \n",
        "2. House Price Prediction task.\n",
        "    1. Pre-processing: Convert non-numeric columns (mainroad, guestroom, basement, hotwaterheating, airconditioning) to numeric using one-hot encoding if the column values are not interrelated. If column values are related, need to use ordinal encoding.\n",
        "    2. Pre-processing: Use pd.get_dummies to convert the one-hot encoding from the previous step into single columns. [link | link]\n",
        "    3. Use two-fold cross-validation [sklearn]  and predict (use linear regression) the house price (column \"price\") using features (all columns except \"price\" are the features). You need output evaluation metrics: R1-squared error, Mean Squared Error (MSE), Root Mean Squared Error (RMSE). Mean Average Error (MAE). See doc for some short introduction for these evaluation metrics. In case the evaluation metrics (RMSE, MAE, MSE etc) have higher value (i.e., high error), then use standard scaler on the target column (column \"price\") to scale them. Additionally, you can also use standard scaler to scale the numeric features (i.e., those features other than target \"price\" and columns not converted to numeric using some encoding methods such as ordinal encoding and one-hot encoding). Some sample basic code notebook for Linear Regression (also use the internet for more) that starts with import of LinearRegression from sklearn.linear_model.\n",
        "3. Create three equal-size buckets of House Price data. Bin the data into 3 quantiles (new column: quantile) of  'low', 'medium', 'high' based on \"price\" column in the House Price dataset."
      ],
      "metadata": {
        "id": "yPlebFjVUkKB"
      }
    },
    {
      "cell_type": "code",
      "execution_count": 5,
      "metadata": {
        "colab": {
          "base_uri": "https://localhost:8080/"
        },
        "id": "r-mlaypPUjEn",
        "outputId": "39b5a9f0-d928-4814-f474-68df74c1f1f6"
      },
      "outputs": [
        {
          "output_type": "stream",
          "name": "stdout",
          "text": [
            "+----+--------------+--------+--------+\n",
            "|    | song_title   |   rank |   year |\n",
            "|----+--------------+--------+--------|\n",
            "|  0 | Mysong1      |      1 |   2012 |\n",
            "|  1 | Mysong1      |      1 |   2013 |\n",
            "|  2 | Mysong1      |      2 |   2014 |\n",
            "|  3 | Mysong1      |      3 |   2015 |\n",
            "|  4 | Mysong2      |      2 |   2012 |\n",
            "|  5 | Mysong2      |      2 |   2013 |\n",
            "|  6 | Mysong2      |      1 |   2014 |\n",
            "|  7 | Mysong2      |      2 |   2015 |\n",
            "|  8 | Mysong3      |      3 |   2012 |\n",
            "|  9 | Mysong3      |      3 |   2013 |\n",
            "+----+--------------+--------+--------+\n"
          ]
        }
      ],
      "source": [
        "import pandas as pd\n",
        "from tabulate import tabulate\n",
        "\n",
        "df1 = pd.read_csv('/content/song.csv')\n",
        "print(tabulate(df1, headers='keys', tablefmt='psql'))"
      ]
    },
    {
      "cell_type": "code",
      "source": [
        "print(df1.columns)"
      ],
      "metadata": {
        "colab": {
          "base_uri": "https://localhost:8080/"
        },
        "id": "1G5PQlL1Vdoz",
        "outputId": "c95f49ba-6196-40c6-d140-114089b0afc0"
      },
      "execution_count": 6,
      "outputs": [
        {
          "output_type": "stream",
          "name": "stdout",
          "text": [
            "Index(['song_title', 'rank', 'year'], dtype='object')\n"
          ]
        }
      ]
    },
    {
      "cell_type": "markdown",
      "source": [
        "## *1) Read \"song.csv\" into a dataframe and then produce the following output. Write Output For Ranked Songs By its Highest Frequency.*\n",
        "\n",
        "## *Whichever song won a particular rank (say 2) with maximum frequency takes that place. For example, Mysong1 won rank 1 for two different years (achieved maximum frequency for that particular rank) and so in output (see row 1 in Output expected below), it should appear as Mysong1 with rank 1 and count 2.. (Note. in the same year, now two songs have same rank.) **"
      ],
      "metadata": {
        "id": "c8p3U68pVwvz"
      }
    },
    {
      "cell_type": "code",
      "source": [
        "rank_counts = df1.groupby(['song_title', 'rank']).size().reset_index(name='Count')\n",
        "max_rank_counts = rank_counts.loc[rank_counts.groupby('rank')['Count'].idxmax()]\n",
        "print(tabulate(max_rank_counts, headers='keys', tablefmt='psql'))"
      ],
      "metadata": {
        "colab": {
          "base_uri": "https://localhost:8080/"
        },
        "id": "pftObDsyVtSc",
        "outputId": "cd6c6d52-2427-4fc5-ffab-a2d24de5cdbc"
      },
      "execution_count": 11,
      "outputs": [
        {
          "output_type": "stream",
          "name": "stdout",
          "text": [
            "+----+--------------+--------+---------+\n",
            "|    | song_title   |   rank |   Count |\n",
            "|----+--------------+--------+---------|\n",
            "|  0 | Mysong1      |      1 |       2 |\n",
            "|  4 | Mysong2      |      2 |       3 |\n",
            "|  5 | Mysong3      |      3 |       2 |\n",
            "+----+--------------+--------+---------+\n"
          ]
        }
      ]
    },
    {
      "cell_type": "markdown",
      "source": [
        "###2)House Price Prediction task"
      ],
      "metadata": {
        "id": "K40edximXW5H"
      }
    },
    {
      "cell_type": "markdown",
      "source": [
        "**Pre-processing: Convert non-numeric columns (mainroad, guestroom, basement, hotwaterheating, airconditioning) to numeric using one-hot encoding if the column values are not interrelated. If column values are related, need to use ordinal encoding.**"
      ],
      "metadata": {
        "id": "z9WMJwSCXhyP"
      }
    },
    {
      "cell_type": "code",
      "source": [
        "df = pd.read_csv('/content/Housing.csv')\n",
        "print(tabulate(df.head(10), headers='keys', tablefmt='psql'))\n",
        "categorical_cols = ['mainroad', 'guestroom', 'basement', 'hotwaterheating', 'airconditioning']\n",
        "df = pd.get_dummies(df, columns=categorical_cols, drop_first=True)"
      ],
      "metadata": {
        "colab": {
          "base_uri": "https://localhost:8080/"
        },
        "id": "a9pC5oAeW9gn",
        "outputId": "e1f75235-d1db-4091-9d0f-842cb87a2136"
      },
      "execution_count": 16,
      "outputs": [
        {
          "output_type": "stream",
          "name": "stdout",
          "text": [
            "+----+----------+--------+------------+-------------+-----------+------------+-------------+------------+-------------------+-------------------+-----------+------------+--------------------+\n",
            "|    |    price |   area |   bedrooms |   bathrooms |   stories | mainroad   | guestroom   | basement   | hotwaterheating   | airconditioning   |   parking | prefarea   | furnishingstatus   |\n",
            "|----+----------+--------+------------+-------------+-----------+------------+-------------+------------+-------------------+-------------------+-----------+------------+--------------------|\n",
            "|  0 | 13300000 |   7420 |          4 |           2 |         3 | yes        | no          | no         | no                | yes               |         2 | yes        | furnished          |\n",
            "|  1 | 12250000 |   8960 |          4 |           4 |         4 | yes        | no          | no         | no                | yes               |         3 | no         | furnished          |\n",
            "|  2 | 12250000 |   9960 |          3 |           2 |         2 | yes        | no          | yes        | no                | no                |         2 | yes        | semi-furnished     |\n",
            "|  3 | 12215000 |   7500 |          4 |           2 |         2 | yes        | no          | yes        | no                | yes               |         3 | yes        | furnished          |\n",
            "|  4 | 11410000 |   7420 |          4 |           1 |         2 | yes        | yes         | yes        | no                | yes               |         2 | no         | furnished          |\n",
            "|  5 | 10850000 |   7500 |          3 |           3 |         1 | yes        | no          | yes        | no                | yes               |         2 | yes        | semi-furnished     |\n",
            "|  6 | 10150000 |   8580 |          4 |           3 |         4 | yes        | no          | no         | no                | yes               |         2 | yes        | semi-furnished     |\n",
            "|  7 | 10150000 |  16200 |          5 |           3 |         2 | yes        | no          | no         | no                | no                |         0 | no         | unfurnished        |\n",
            "|  8 |  9870000 |   8100 |          4 |           1 |         2 | yes        | yes         | yes        | no                | yes               |         2 | yes        | furnished          |\n",
            "|  9 |  9800000 |   5750 |          3 |           2 |         4 | yes        | yes         | no         | no                | yes               |         1 | yes        | unfurnished        |\n",
            "+----+----------+--------+------------+-------------+-----------+------------+-------------+------------+-------------------+-------------------+-----------+------------+--------------------+\n"
          ]
        }
      ]
    },
    {
      "cell_type": "markdown",
      "source": [
        "**3) Create three equal-size buckets of House Price data. Bin the data into 3 quantiles (new column: quantile) of  'low', 'medium', 'high' based on \"price\" column in the House Price dataset.**"
      ],
      "metadata": {
        "id": "OJzyTDuTYnlS"
      }
    },
    {
      "cell_type": "code",
      "source": [
        "df['quantile'] = pd.qcut(df['price'], q=3, labels=['low', 'medium', 'high'])\n",
        "print(tabulate(df.head(10), headers='keys', tablefmt='psql'))"
      ],
      "metadata": {
        "colab": {
          "base_uri": "https://localhost:8080/"
        },
        "id": "ysIenZ5GYnRu",
        "outputId": "c204d569-d0bd-4469-e102-b314441517b6"
      },
      "execution_count": 23,
      "outputs": [
        {
          "output_type": "stream",
          "name": "stdout",
          "text": [
            "+----+----------+--------+------------+-------------+-----------+-----------+------------+--------------------+----------------+-----------------+----------------+-----------------------+-----------------------+------------+\n",
            "|    |    price |   area |   bedrooms |   bathrooms |   stories |   parking | prefarea   | furnishingstatus   | mainroad_yes   | guestroom_yes   | basement_yes   | hotwaterheating_yes   | airconditioning_yes   | quantile   |\n",
            "|----+----------+--------+------------+-------------+-----------+-----------+------------+--------------------+----------------+-----------------+----------------+-----------------------+-----------------------+------------|\n",
            "|  0 | 13300000 |   7420 |          4 |           2 |         3 |         2 | yes        | furnished          | True           | False           | False          | False                 | True                  | high       |\n",
            "|  1 | 12250000 |   8960 |          4 |           4 |         4 |         3 | no         | furnished          | True           | False           | False          | False                 | True                  | high       |\n",
            "|  2 | 12250000 |   9960 |          3 |           2 |         2 |         2 | yes        | semi-furnished     | True           | False           | True           | False                 | False                 | high       |\n",
            "|  3 | 12215000 |   7500 |          4 |           2 |         2 |         3 | yes        | furnished          | True           | False           | True           | False                 | True                  | high       |\n",
            "|  4 | 11410000 |   7420 |          4 |           1 |         2 |         2 | no         | furnished          | True           | True            | True           | False                 | True                  | high       |\n",
            "|  5 | 10850000 |   7500 |          3 |           3 |         1 |         2 | yes        | semi-furnished     | True           | False           | True           | False                 | True                  | high       |\n",
            "|  6 | 10150000 |   8580 |          4 |           3 |         4 |         2 | yes        | semi-furnished     | True           | False           | False          | False                 | True                  | high       |\n",
            "|  7 | 10150000 |  16200 |          5 |           3 |         2 |         0 | no         | unfurnished        | True           | False           | False          | False                 | False                 | high       |\n",
            "|  8 |  9870000 |   8100 |          4 |           1 |         2 |         2 | yes        | furnished          | True           | True            | True           | False                 | True                  | high       |\n",
            "|  9 |  9800000 |   5750 |          3 |           2 |         4 |         1 | yes        | unfurnished        | True           | True            | False          | False                 | True                  | high       |\n",
            "+----+----------+--------+------------+-------------+-----------+-----------+------------+--------------------+----------------+-----------------+----------------+-----------------------+-----------------------+------------+\n"
          ]
        }
      ]
    }
  ]
}