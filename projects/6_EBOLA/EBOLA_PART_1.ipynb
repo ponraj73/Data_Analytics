{
  "nbformat": 4,
  "nbformat_minor": 0,
  "metadata": {
    "colab": {
      "provenance": []
    },
    "kernelspec": {
      "name": "python3",
      "display_name": "Python 3"
    },
    "language_info": {
      "name": "python"
    }
  },
  "cells": [
    {
      "cell_type": "markdown",
      "source": [
        "####MINI PROJECT 6 -> EBOLA"
      ],
      "metadata": {
        "id": "R9xtMc1FG0R3"
      }
    },
    {
      "cell_type": "markdown",
      "source": [
        "***Questions***   \n",
        "***Part I***      \n",
        "1. Distinct # of Indicators in the universe (complete dataset).\n",
        "2. In the second half of the year 2015, how many countries have one or more “Cumulative number of confirmed Ebola cases”\n",
        "3. Top 10 total Ebola cases confirmed. Note that Indicator = Cumulative number of confirmed Ebola cases. Include rank based on the total value (=cases confirmed).\n",
        "4. Top 10 countries that have total cases with Indicator = “Cumulative number of confirmed probable and suspected Ebola deaths” in 2015 Q2 (i.e., April-June 2015).\n",
        "5. Top 10 countries that have total cases with Indicator = “Cumulative number of confirmed probable and suspected Ebola deaths” with only even months of the year 2015 (i.e., months 2, 4, 6, 8, 10, 12).\n",
        "6. Find Country and Indicator wise total value. Also, rank on the total_value which is the sum at the Country-Indicator level.\n",
        "7. For those Top 10 countries by Indicator = Cumulative number of confirmed Ebola cases, plot group bar chart.\n",
        "***Part II***     \n",
        "1. Read \"song.csv\" into a dataframe and then produce the following output.\n",
        "Write Output For Ranked Songs By its Highest Frequency. Whichever song won a particular rank (say 2) with maximum frequency takes that place. For example, Mysong1 won rank 1 for two different years (achieved maximum frequency for that particular rank) and so in output (see row 1 in Output expected below), it should appear as Mysong1 with rank 1 and count 2..\n",
        "(Note. in the same year, now two songs have same rank.)           \n",
        "2. House Price Prediction task.\n",
        "    1. Pre-processing: Convert non-numeric columns (mainroad, guestroom, basement, hotwaterheating, airconditioning) to numeric using one-hot encoding if the column values are not interrelated. If column values are related, need to use ordinal encoding.\n",
        "    2. Pre-processing: Use pd.get_dummies to convert the one-hot encoding from the previous step into single columns. [link | link]\n",
        "    3. Use two-fold cross-validation [sklearn]  and predict (use linear regression) the house price (column \"price\") using features (all columns except \"price\" are the features). You need output evaluation metrics: R1-squared error, Mean Squared Error (MSE), Root Mean Squared Error (RMSE). Mean Average Error (MAE). See doc for some short introduction for these evaluation metrics. In case the evaluation metrics (RMSE, MAE, MSE etc) have higher value (i.e., high error), then use standard scaler on the target column (column \"price\") to scale them. Additionally, you can also use standard scaler to scale the numeric features (i.e., those features other than target \"price\" and columns not converted to numeric using some encoding methods such as ordinal encoding and one-hot encoding). Some sample basic code notebook for Linear Regression (also use the internet for more) that starts with import of LinearRegression from sklearn.linear_model.\n",
        "3. Create three equal-size buckets of House Price data. Bin the data into 3 quantiles (new column: quantile) of  'low', 'medium', 'high' based on \"price\" column in the House Price dataset.\n",
        "\n"
      ],
      "metadata": {
        "id": "jBuQ2e0B-gmf"
      }
    },
    {
      "cell_type": "markdown",
      "source": [
        "***PART I***"
      ],
      "metadata": {
        "id": "qFwyesWapGeD"
      }
    },
    {
      "cell_type": "code",
      "execution_count": 2,
      "metadata": {
        "id": "93675mBa_F1l"
      },
      "outputs": [],
      "source": [
        "import pandas as pd\n",
        "from tabulate import tabulate\n",
        "import traceback\n",
        "import matplotlib.pyplot as plt\n",
        "import seaborn as sns\n",
        "import requests\n",
        "import numpy as py"
      ]
    },
    {
      "cell_type": "code",
      "source": [
        "import pandas as pd\n",
        "\n",
        "# Assuming your CSV file is named 'ebola_data.csv'\n",
        "data = pd.read_csv('/content/ebola_data_db_format.csv')  # Update the file path\n",
        "display(pd.DataFrame(data))\n",
        "df = pd.DataFrame(data)"
      ],
      "metadata": {
        "colab": {
          "base_uri": "https://localhost:8080/",
          "height": 423
        },
        "id": "mczBsM3f_UJw",
        "outputId": "64a6b233-1264-46b5-a6f7-ef7fc4bfef8a"
      },
      "execution_count": 4,
      "outputs": [
        {
          "output_type": "display_data",
          "data": {
            "text/plain": [
              "                                               Indicator  \\\n",
              "0      Cumulative number of confirmed, probable and s...   \n",
              "1             Cumulative number of confirmed Ebola cases   \n",
              "2              Cumulative number of probable Ebola cases   \n",
              "3             Cumulative number of suspected Ebola cases   \n",
              "4      Cumulative number of confirmed, probable and s...   \n",
              "...                                                  ...   \n",
              "17580  Cumulative number of confirmed, probable and s...   \n",
              "17581        Cumulative number of confirmed Ebola deaths   \n",
              "17582         Cumulative number of probable Ebola deaths   \n",
              "17583        Cumulative number of suspected Ebola deaths   \n",
              "17584  Cumulative number of confirmed, probable and s...   \n",
              "\n",
              "                        Country        Date   value  \n",
              "0                        Guinea  2015-03-10  3285.0  \n",
              "1                        Guinea  2015-03-10  2871.0  \n",
              "2                        Guinea  2015-03-10   392.0  \n",
              "3                        Guinea  2015-03-10    22.0  \n",
              "4                        Guinea  2015-03-10  2170.0  \n",
              "...                         ...         ...     ...  \n",
              "17580                     Spain  2016-03-23     0.0  \n",
              "17581  United States of America  2016-03-23     1.0  \n",
              "17582  United States of America  2016-03-23     0.0  \n",
              "17583  United States of America  2016-03-23     0.0  \n",
              "17584  United States of America  2016-03-23     1.0  \n",
              "\n",
              "[17585 rows x 4 columns]"
            ],
            "text/html": [
              "\n",
              "  <div id=\"df-4e4aca07-b7fc-45fd-9073-3735315c720d\" class=\"colab-df-container\">\n",
              "    <div>\n",
              "<style scoped>\n",
              "    .dataframe tbody tr th:only-of-type {\n",
              "        vertical-align: middle;\n",
              "    }\n",
              "\n",
              "    .dataframe tbody tr th {\n",
              "        vertical-align: top;\n",
              "    }\n",
              "\n",
              "    .dataframe thead th {\n",
              "        text-align: right;\n",
              "    }\n",
              "</style>\n",
              "<table border=\"1\" class=\"dataframe\">\n",
              "  <thead>\n",
              "    <tr style=\"text-align: right;\">\n",
              "      <th></th>\n",
              "      <th>Indicator</th>\n",
              "      <th>Country</th>\n",
              "      <th>Date</th>\n",
              "      <th>value</th>\n",
              "    </tr>\n",
              "  </thead>\n",
              "  <tbody>\n",
              "    <tr>\n",
              "      <th>0</th>\n",
              "      <td>Cumulative number of confirmed, probable and s...</td>\n",
              "      <td>Guinea</td>\n",
              "      <td>2015-03-10</td>\n",
              "      <td>3285.0</td>\n",
              "    </tr>\n",
              "    <tr>\n",
              "      <th>1</th>\n",
              "      <td>Cumulative number of confirmed Ebola cases</td>\n",
              "      <td>Guinea</td>\n",
              "      <td>2015-03-10</td>\n",
              "      <td>2871.0</td>\n",
              "    </tr>\n",
              "    <tr>\n",
              "      <th>2</th>\n",
              "      <td>Cumulative number of probable Ebola cases</td>\n",
              "      <td>Guinea</td>\n",
              "      <td>2015-03-10</td>\n",
              "      <td>392.0</td>\n",
              "    </tr>\n",
              "    <tr>\n",
              "      <th>3</th>\n",
              "      <td>Cumulative number of suspected Ebola cases</td>\n",
              "      <td>Guinea</td>\n",
              "      <td>2015-03-10</td>\n",
              "      <td>22.0</td>\n",
              "    </tr>\n",
              "    <tr>\n",
              "      <th>4</th>\n",
              "      <td>Cumulative number of confirmed, probable and s...</td>\n",
              "      <td>Guinea</td>\n",
              "      <td>2015-03-10</td>\n",
              "      <td>2170.0</td>\n",
              "    </tr>\n",
              "    <tr>\n",
              "      <th>...</th>\n",
              "      <td>...</td>\n",
              "      <td>...</td>\n",
              "      <td>...</td>\n",
              "      <td>...</td>\n",
              "    </tr>\n",
              "    <tr>\n",
              "      <th>17580</th>\n",
              "      <td>Cumulative number of confirmed, probable and s...</td>\n",
              "      <td>Spain</td>\n",
              "      <td>2016-03-23</td>\n",
              "      <td>0.0</td>\n",
              "    </tr>\n",
              "    <tr>\n",
              "      <th>17581</th>\n",
              "      <td>Cumulative number of confirmed Ebola deaths</td>\n",
              "      <td>United States of America</td>\n",
              "      <td>2016-03-23</td>\n",
              "      <td>1.0</td>\n",
              "    </tr>\n",
              "    <tr>\n",
              "      <th>17582</th>\n",
              "      <td>Cumulative number of probable Ebola deaths</td>\n",
              "      <td>United States of America</td>\n",
              "      <td>2016-03-23</td>\n",
              "      <td>0.0</td>\n",
              "    </tr>\n",
              "    <tr>\n",
              "      <th>17583</th>\n",
              "      <td>Cumulative number of suspected Ebola deaths</td>\n",
              "      <td>United States of America</td>\n",
              "      <td>2016-03-23</td>\n",
              "      <td>0.0</td>\n",
              "    </tr>\n",
              "    <tr>\n",
              "      <th>17584</th>\n",
              "      <td>Cumulative number of confirmed, probable and s...</td>\n",
              "      <td>United States of America</td>\n",
              "      <td>2016-03-23</td>\n",
              "      <td>1.0</td>\n",
              "    </tr>\n",
              "  </tbody>\n",
              "</table>\n",
              "<p>17585 rows × 4 columns</p>\n",
              "</div>\n",
              "    <div class=\"colab-df-buttons\">\n",
              "\n",
              "  <div class=\"colab-df-container\">\n",
              "    <button class=\"colab-df-convert\" onclick=\"convertToInteractive('df-4e4aca07-b7fc-45fd-9073-3735315c720d')\"\n",
              "            title=\"Convert this dataframe to an interactive table.\"\n",
              "            style=\"display:none;\">\n",
              "\n",
              "  <svg xmlns=\"http://www.w3.org/2000/svg\" height=\"24px\" viewBox=\"0 -960 960 960\">\n",
              "    <path d=\"M120-120v-720h720v720H120Zm60-500h600v-160H180v160Zm220 220h160v-160H400v160Zm0 220h160v-160H400v160ZM180-400h160v-160H180v160Zm440 0h160v-160H620v160ZM180-180h160v-160H180v160Zm440 0h160v-160H620v160Z\"/>\n",
              "  </svg>\n",
              "    </button>\n",
              "\n",
              "  <style>\n",
              "    .colab-df-container {\n",
              "      display:flex;\n",
              "      gap: 12px;\n",
              "    }\n",
              "\n",
              "    .colab-df-convert {\n",
              "      background-color: #E8F0FE;\n",
              "      border: none;\n",
              "      border-radius: 50%;\n",
              "      cursor: pointer;\n",
              "      display: none;\n",
              "      fill: #1967D2;\n",
              "      height: 32px;\n",
              "      padding: 0 0 0 0;\n",
              "      width: 32px;\n",
              "    }\n",
              "\n",
              "    .colab-df-convert:hover {\n",
              "      background-color: #E2EBFA;\n",
              "      box-shadow: 0px 1px 2px rgba(60, 64, 67, 0.3), 0px 1px 3px 1px rgba(60, 64, 67, 0.15);\n",
              "      fill: #174EA6;\n",
              "    }\n",
              "\n",
              "    .colab-df-buttons div {\n",
              "      margin-bottom: 4px;\n",
              "    }\n",
              "\n",
              "    [theme=dark] .colab-df-convert {\n",
              "      background-color: #3B4455;\n",
              "      fill: #D2E3FC;\n",
              "    }\n",
              "\n",
              "    [theme=dark] .colab-df-convert:hover {\n",
              "      background-color: #434B5C;\n",
              "      box-shadow: 0px 1px 3px 1px rgba(0, 0, 0, 0.15);\n",
              "      filter: drop-shadow(0px 1px 2px rgba(0, 0, 0, 0.3));\n",
              "      fill: #FFFFFF;\n",
              "    }\n",
              "  </style>\n",
              "\n",
              "    <script>\n",
              "      const buttonEl =\n",
              "        document.querySelector('#df-4e4aca07-b7fc-45fd-9073-3735315c720d button.colab-df-convert');\n",
              "      buttonEl.style.display =\n",
              "        google.colab.kernel.accessAllowed ? 'block' : 'none';\n",
              "\n",
              "      async function convertToInteractive(key) {\n",
              "        const element = document.querySelector('#df-4e4aca07-b7fc-45fd-9073-3735315c720d');\n",
              "        const dataTable =\n",
              "          await google.colab.kernel.invokeFunction('convertToInteractive',\n",
              "                                                    [key], {});\n",
              "        if (!dataTable) return;\n",
              "\n",
              "        const docLinkHtml = 'Like what you see? Visit the ' +\n",
              "          '<a target=\"_blank\" href=https://colab.research.google.com/notebooks/data_table.ipynb>data table notebook</a>'\n",
              "          + ' to learn more about interactive tables.';\n",
              "        element.innerHTML = '';\n",
              "        dataTable['output_type'] = 'display_data';\n",
              "        await google.colab.output.renderOutput(dataTable, element);\n",
              "        const docLink = document.createElement('div');\n",
              "        docLink.innerHTML = docLinkHtml;\n",
              "        element.appendChild(docLink);\n",
              "      }\n",
              "    </script>\n",
              "  </div>\n",
              "\n",
              "\n",
              "<div id=\"df-64ee0987-1d67-4794-b10f-400dbb862e9e\">\n",
              "  <button class=\"colab-df-quickchart\" onclick=\"quickchart('df-64ee0987-1d67-4794-b10f-400dbb862e9e')\"\n",
              "            title=\"Suggest charts\"\n",
              "            style=\"display:none;\">\n",
              "\n",
              "<svg xmlns=\"http://www.w3.org/2000/svg\" height=\"24px\"viewBox=\"0 0 24 24\"\n",
              "     width=\"24px\">\n",
              "    <g>\n",
              "        <path d=\"M19 3H5c-1.1 0-2 .9-2 2v14c0 1.1.9 2 2 2h14c1.1 0 2-.9 2-2V5c0-1.1-.9-2-2-2zM9 17H7v-7h2v7zm4 0h-2V7h2v10zm4 0h-2v-4h2v4z\"/>\n",
              "    </g>\n",
              "</svg>\n",
              "  </button>\n",
              "\n",
              "<style>\n",
              "  .colab-df-quickchart {\n",
              "      --bg-color: #E8F0FE;\n",
              "      --fill-color: #1967D2;\n",
              "      --hover-bg-color: #E2EBFA;\n",
              "      --hover-fill-color: #174EA6;\n",
              "      --disabled-fill-color: #AAA;\n",
              "      --disabled-bg-color: #DDD;\n",
              "  }\n",
              "\n",
              "  [theme=dark] .colab-df-quickchart {\n",
              "      --bg-color: #3B4455;\n",
              "      --fill-color: #D2E3FC;\n",
              "      --hover-bg-color: #434B5C;\n",
              "      --hover-fill-color: #FFFFFF;\n",
              "      --disabled-bg-color: #3B4455;\n",
              "      --disabled-fill-color: #666;\n",
              "  }\n",
              "\n",
              "  .colab-df-quickchart {\n",
              "    background-color: var(--bg-color);\n",
              "    border: none;\n",
              "    border-radius: 50%;\n",
              "    cursor: pointer;\n",
              "    display: none;\n",
              "    fill: var(--fill-color);\n",
              "    height: 32px;\n",
              "    padding: 0;\n",
              "    width: 32px;\n",
              "  }\n",
              "\n",
              "  .colab-df-quickchart:hover {\n",
              "    background-color: var(--hover-bg-color);\n",
              "    box-shadow: 0 1px 2px rgba(60, 64, 67, 0.3), 0 1px 3px 1px rgba(60, 64, 67, 0.15);\n",
              "    fill: var(--button-hover-fill-color);\n",
              "  }\n",
              "\n",
              "  .colab-df-quickchart-complete:disabled,\n",
              "  .colab-df-quickchart-complete:disabled:hover {\n",
              "    background-color: var(--disabled-bg-color);\n",
              "    fill: var(--disabled-fill-color);\n",
              "    box-shadow: none;\n",
              "  }\n",
              "\n",
              "  .colab-df-spinner {\n",
              "    border: 2px solid var(--fill-color);\n",
              "    border-color: transparent;\n",
              "    border-bottom-color: var(--fill-color);\n",
              "    animation:\n",
              "      spin 1s steps(1) infinite;\n",
              "  }\n",
              "\n",
              "  @keyframes spin {\n",
              "    0% {\n",
              "      border-color: transparent;\n",
              "      border-bottom-color: var(--fill-color);\n",
              "      border-left-color: var(--fill-color);\n",
              "    }\n",
              "    20% {\n",
              "      border-color: transparent;\n",
              "      border-left-color: var(--fill-color);\n",
              "      border-top-color: var(--fill-color);\n",
              "    }\n",
              "    30% {\n",
              "      border-color: transparent;\n",
              "      border-left-color: var(--fill-color);\n",
              "      border-top-color: var(--fill-color);\n",
              "      border-right-color: var(--fill-color);\n",
              "    }\n",
              "    40% {\n",
              "      border-color: transparent;\n",
              "      border-right-color: var(--fill-color);\n",
              "      border-top-color: var(--fill-color);\n",
              "    }\n",
              "    60% {\n",
              "      border-color: transparent;\n",
              "      border-right-color: var(--fill-color);\n",
              "    }\n",
              "    80% {\n",
              "      border-color: transparent;\n",
              "      border-right-color: var(--fill-color);\n",
              "      border-bottom-color: var(--fill-color);\n",
              "    }\n",
              "    90% {\n",
              "      border-color: transparent;\n",
              "      border-bottom-color: var(--fill-color);\n",
              "    }\n",
              "  }\n",
              "</style>\n",
              "\n",
              "  <script>\n",
              "    async function quickchart(key) {\n",
              "      const quickchartButtonEl =\n",
              "        document.querySelector('#' + key + ' button');\n",
              "      quickchartButtonEl.disabled = true;  // To prevent multiple clicks.\n",
              "      quickchartButtonEl.classList.add('colab-df-spinner');\n",
              "      try {\n",
              "        const charts = await google.colab.kernel.invokeFunction(\n",
              "            'suggestCharts', [key], {});\n",
              "      } catch (error) {\n",
              "        console.error('Error during call to suggestCharts:', error);\n",
              "      }\n",
              "      quickchartButtonEl.classList.remove('colab-df-spinner');\n",
              "      quickchartButtonEl.classList.add('colab-df-quickchart-complete');\n",
              "    }\n",
              "    (() => {\n",
              "      let quickchartButtonEl =\n",
              "        document.querySelector('#df-64ee0987-1d67-4794-b10f-400dbb862e9e button');\n",
              "      quickchartButtonEl.style.display =\n",
              "        google.colab.kernel.accessAllowed ? 'block' : 'none';\n",
              "    })();\n",
              "  </script>\n",
              "</div>\n",
              "\n",
              "    </div>\n",
              "  </div>\n"
            ],
            "application/vnd.google.colaboratory.intrinsic+json": {
              "type": "dataframe",
              "summary": "{\n  \"name\": \"df = pd\",\n  \"rows\": 17585,\n  \"fields\": [\n    {\n      \"column\": \"Indicator\",\n      \"properties\": {\n        \"dtype\": \"category\",\n        \"num_unique_values\": 36,\n        \"samples\": [\n          \"Proportion of confirmed, probable and suspected Ebola deaths that are from the last 21 days\",\n          \"Number of suspected Ebola cases in the last 7 days\",\n          \"Case fatality rate (CFR) of suspected Ebola cases\"\n        ],\n        \"semantic_type\": \"\",\n        \"description\": \"\"\n      }\n    },\n    {\n      \"column\": \"Country\",\n      \"properties\": {\n        \"dtype\": \"category\",\n        \"num_unique_values\": 12,\n        \"samples\": [\n          \"Liberia 2\",\n          \"Italy\",\n          \"Guinea\"\n        ],\n        \"semantic_type\": \"\",\n        \"description\": \"\"\n      }\n    },\n    {\n      \"column\": \"Date\",\n      \"properties\": {\n        \"dtype\": \"object\",\n        \"num_unique_values\": 259,\n        \"samples\": [\n          \"2014-10-22\",\n          \"2014-12-30\",\n          \"2015-02-20\"\n        ],\n        \"semantic_type\": \"\",\n        \"description\": \"\"\n      }\n    },\n    {\n      \"column\": \"value\",\n      \"properties\": {\n        \"dtype\": \"number\",\n        \"std\": 2313.569259185866,\n        \"min\": 0.0,\n        \"max\": 14122.0,\n        \"num_unique_values\": 1793,\n        \"samples\": [\n          8573.0,\n          3286.0,\n          5040.0\n        ],\n        \"semantic_type\": \"\",\n        \"description\": \"\"\n      }\n    }\n  ]\n}"
            }
          },
          "metadata": {}
        }
      ]
    },
    {
      "cell_type": "markdown",
      "source": [
        "**1) Distinct # of Indicators in the universe (complete dataset).**"
      ],
      "metadata": {
        "id": "8XbuiiPNC-Eu"
      }
    },
    {
      "cell_type": "code",
      "source": [
        "indicators = df['Indicator']\n",
        "distinct_indicators = indicators.unique()\n",
        "num_distinct_indicators = len(distinct_indicators)\n",
        "print(f\"There are {num_distinct_indicators} distinct indicators in the dataset.\")"
      ],
      "metadata": {
        "colab": {
          "base_uri": "https://localhost:8080/"
        },
        "id": "bnIYEfDL_eyc",
        "outputId": "4b9d144d-c7ba-4318-86eb-c9bead468241"
      },
      "execution_count": 5,
      "outputs": [
        {
          "output_type": "stream",
          "name": "stdout",
          "text": [
            "There are 36 distinct indicators in the dataset.\n"
          ]
        }
      ]
    },
    {
      "cell_type": "markdown",
      "source": [
        "**2 ) In the second half of the year 2015, how many countries have one or more “Cumulative number of confirmed Ebola cases”**"
      ],
      "metadata": {
        "id": "7yK6WrcGDHNw"
      }
    },
    {
      "cell_type": "code",
      "source": [
        "filtered_df = df[(df['Date'] >= '2015-07-01') & (df['Date'] <= '2015-12-31') & (df['Indicator'] == 'Cumulative number of confirmed Ebola cases')]\n",
        "countries = filtered_df['Country'].unique()\n",
        "num_countries = len(countries)\n",
        "print(f\"In the second half of 2015, {num_countries} countries had one or more 'Cumulative number of confirmed Ebola cases'.\")"
      ],
      "metadata": {
        "colab": {
          "base_uri": "https://localhost:8080/"
        },
        "id": "luypVww8_o3H",
        "outputId": "d11cfb19-9f0c-4323-ddf5-9d6d2ca46678"
      },
      "execution_count": 6,
      "outputs": [
        {
          "output_type": "stream",
          "name": "stdout",
          "text": [
            "In the second half of 2015, 11 countries had one or more 'Cumulative number of confirmed Ebola cases'.\n"
          ]
        }
      ]
    },
    {
      "cell_type": "markdown",
      "source": [
        "**3) Top 10 total Ebola cases confirmed. Note that Indicator = Cumulative number of confirmed Ebola cases. Include rank based on the total value (=cases confirmed).**"
      ],
      "metadata": {
        "id": "ahfWumkoDPCF"
      }
    },
    {
      "source": [
        "filtered_df = df[df['Indicator'] == 'Cumulative number of confirmed Ebola cases']\n",
        "# Access the column using its actual name 'value' (lowercase 'v')\n",
        "country_totals = filtered_df.groupby('Country')['value'].sum().reset_index()\n",
        "top_10_countries = country_totals.sort_values(by=['value'], ascending=False).head(10) #Also change this line since we renamed value\n",
        "top_10_countries['Rank'] = range(1, 11)\n",
        "print(tabulate(top_10_countries, headers='keys', tablefmt='psql'))"
      ],
      "cell_type": "code",
      "metadata": {
        "colab": {
          "base_uri": "https://localhost:8080/"
        },
        "id": "5UXJJ3opAZO8",
        "outputId": "6bb59c99-39f3-4fa8-ed34-3b9cf80f9d5e"
      },
      "execution_count": 7,
      "outputs": [
        {
          "output_type": "stream",
          "name": "stdout",
          "text": [
            "+----+--------------------------+------------------+--------+\n",
            "|    | Country                  |            value |   Rank |\n",
            "|----+--------------------------+------------------+--------|\n",
            "|  8 | Sierra Leone             |      2.04187e+06 |      1 |\n",
            "|  3 | Liberia                  | 768079           |      2 |\n",
            "|  0 | Guinea                   | 749622           |      3 |\n",
            "|  6 | Nigeria                  |   4840           |      4 |\n",
            "|  5 | Mali                     |   1658           |      5 |\n",
            "| 11 | United States of America |    967           |      6 |\n",
            "|  4 | Liberia 2                |    657           |      7 |\n",
            "|  7 | Senegal                  |    254           |      8 |\n",
            "|  9 | Spain                    |    243           |      9 |\n",
            "| 10 | United Kingdom           |    221           |     10 |\n",
            "+----+--------------------------+------------------+--------+\n"
          ]
        }
      ]
    },
    {
      "cell_type": "markdown",
      "source": [
        "**4) Top 10 countries that have total cases with Indicator = “Cumulative number of confirmed probable and suspected Ebola deaths” in 2015 Q2 (i.e., April-June 2015).**"
      ],
      "metadata": {
        "id": "wY_OaEvnDWw0"
      }
    },
    {
      "cell_type": "code",
      "source": [
        "df['Year'] = df['Date'].str[:4]\n",
        "df['Month'] = df['Date'].str[5:7]\n",
        "df['Year'] = df['Year'].astype(int)\n",
        "df['Month'] = df['Month'].astype(int)\n",
        "Q2_2015 = df[(df['Year'] == 2015) & (df['Month'].isin([4, 5, 6])) & (df['Indicator'] == 'Cumulative number of confirmed, probable and suspected Ebola deaths')]\n",
        "Total_Deaths_Q2 = Q2_2015.groupby('Country')['value'].sum().reset_index()\n",
        "Total_Deaths_Q2['Rank'] = Total_Deaths_Q2['value'].rank(ascending=False)\n",
        "top_10_Q2_2015 = Total_Deaths_Q2.sort_values(by='value', ascending=False).head(10)\n",
        "table = tabulate(top_10_Q2_2015[['Country', 'value', 'Rank']],headers=['Country', 'Total Deaths', 'Rank'], tablefmt='grid')\n",
        "print(table)"
      ],
      "metadata": {
        "id": "txpNuQHoBHYL",
        "outputId": "1c8c02c4-fa6c-45bf-c3a0-5e0c3ba9cf8d",
        "colab": {
          "base_uri": "https://localhost:8080/"
        }
      },
      "execution_count": 8,
      "outputs": [
        {
          "output_type": "stream",
          "name": "stdout",
          "text": [
            "+----+--------------------------+----------------+--------+\n",
            "|    | Country                  |   Total Deaths |   Rank |\n",
            "+====+==========================+================+========+\n",
            "|  2 | Liberia                  |         273262 |    1   |\n",
            "+----+--------------------------+----------------+--------+\n",
            "|  6 | Sierra Leone             |         226331 |    2   |\n",
            "+----+--------------------------+----------------+--------+\n",
            "|  0 | Guinea                   |         139652 |    3   |\n",
            "+----+--------------------------+----------------+--------+\n",
            "|  4 | Nigeria                  |            464 |    4   |\n",
            "+----+--------------------------+----------------+--------+\n",
            "|  3 | Mali                     |            348 |    5   |\n",
            "+----+--------------------------+----------------+--------+\n",
            "|  9 | United States of America |             58 |    6   |\n",
            "+----+--------------------------+----------------+--------+\n",
            "|  1 | Italy                    |              0 |    8.5 |\n",
            "+----+--------------------------+----------------+--------+\n",
            "|  5 | Senegal                  |              0 |    8.5 |\n",
            "+----+--------------------------+----------------+--------+\n",
            "|  7 | Spain                    |              0 |    8.5 |\n",
            "+----+--------------------------+----------------+--------+\n",
            "|  8 | United Kingdom           |              0 |    8.5 |\n",
            "+----+--------------------------+----------------+--------+\n"
          ]
        }
      ]
    },
    {
      "cell_type": "markdown",
      "source": [
        "**5) Top 10 countries that have total cases with Indicator = “Cumulative number of confirmed probable and suspected Ebola deaths” with only even months of the year 2015 (i.e., months 2, 4, 6, 8, 10, 12).**"
      ],
      "metadata": {
        "id": "VlhiXDjSDhyT"
      }
    },
    {
      "cell_type": "code",
      "source": [
        "df['Year'] = df['Date'].str[:4]\n",
        "df['Month'] = df['Date'].str[5:7]\n",
        "df['Year'] = df['Year'].astype(int)\n",
        "df['Month'] = df['Month'].astype(int)\n",
        "even_months = [2, 4, 6, 8, 10, 12]\n",
        "odd_months = [1, 3, 5, 7, 9, 11]\n",
        "even_months_2015 = df[(df['Year'] == 2015) & (df['Month'].isin(even_months)) & (df['Indicator'] == 'Cumulative number of confirmed, probable and suspected Ebola deaths')]\n",
        "total_deaths_even_months = even_months_2015.groupby('Country')['value'].sum().reset_index()\n",
        "total_deaths_even_months['Rank'] = total_deaths_even_months['value'].rank(ascending=False)\n",
        "top_10_even_months = total_deaths_even_months.sort_values(by='value', ascending=False).head(10)\n",
        "odd_months_2015 = df[(df['Year'] == 2015) & (df['Month'].isin(odd_months)) & (df['Indicator'] == 'Cumulative number of confirmed, probable and suspected Ebola deaths')]\n",
        "total_deaths_odd_months = odd_months_2015.groupby('Country')['value'].sum().reset_index()\n",
        "total_deaths_odd_months['Rank'] = total_deaths_odd_months['value'].rank(ascending=False)\n",
        "top_10_odd_months = total_deaths_odd_months.sort_values(by='value', ascending=False).head(10)\n",
        "even_months_table = tabulate(top_10_even_months[['Country', 'value', 'Rank']],headers=['Country', 'Total Deaths (Even Months)', 'Rank'],tablefmt='fancy_grid')\n",
        "odd_months_table = tabulate(top_10_odd_months[['Country', 'value', 'Rank']],headers=['Country', 'Total Deaths (Odd Months)', 'Rank'],tablefmt='fancy_grid')\n",
        "print(\"Top 10 Countries by Total Deaths in Even Months of 2015:\")\n",
        "print(even_months_table)\n",
        "print(\"Top 10 Countries by Total Deaths in Odd Months of 2015:\")\n",
        "print(odd_months_table)"
      ],
      "metadata": {
        "colab": {
          "base_uri": "https://localhost:8080/"
        },
        "id": "lMTglM-E-Ufi",
        "outputId": "4c57aeec-3537-4572-d079-bb65957509bf"
      },
      "execution_count": 9,
      "outputs": [
        {
          "output_type": "stream",
          "name": "stdout",
          "text": [
            "Top 10 Countries by Total Deaths in Even Months of 2015:\n",
            "╒════╤══════════════════════════╤══════════════════════════════╤════════╕\n",
            "│    │ Country                  │   Total Deaths (Even Months) │   Rank │\n",
            "╞════╪══════════════════════════╪══════════════════════════════╪════════╡\n",
            "│  2 │ Liberia                  │                       483402 │    1   │\n",
            "├────┼──────────────────────────┼──────────────────────────────┼────────┤\n",
            "│  7 │ Sierra Leone             │                       402717 │    2   │\n",
            "├────┼──────────────────────────┼──────────────────────────────┼────────┤\n",
            "│  0 │ Guinea                   │                       252224 │    3   │\n",
            "├────┼──────────────────────────┼──────────────────────────────┼────────┤\n",
            "│  5 │ Nigeria                  │                          840 │    4   │\n",
            "├────┼──────────────────────────┼──────────────────────────────┼────────┤\n",
            "│  4 │ Mali                     │                          630 │    5   │\n",
            "├────┼──────────────────────────┼──────────────────────────────┼────────┤\n",
            "│  3 │ Liberia 2                │                          111 │    6   │\n",
            "├────┼──────────────────────────┼──────────────────────────────┼────────┤\n",
            "│ 10 │ United States of America │                          105 │    7   │\n",
            "├────┼──────────────────────────┼──────────────────────────────┼────────┤\n",
            "│  1 │ Italy                    │                            0 │    9.5 │\n",
            "├────┼──────────────────────────┼──────────────────────────────┼────────┤\n",
            "│  6 │ Senegal                  │                            0 │    9.5 │\n",
            "├────┼──────────────────────────┼──────────────────────────────┼────────┤\n",
            "│  8 │ Spain                    │                            0 │    9.5 │\n",
            "╘════╧══════════════════════════╧══════════════════════════════╧════════╛\n",
            "Top 10 Countries by Total Deaths in Odd Months of 2015:\n",
            "╒════╤══════════════════════════╤═════════════════════════════╤════════╕\n",
            "│    │ Country                  │   Total Deaths (Odd Months) │   Rank │\n",
            "╞════╪══════════════════════════╪═════════════════════════════╪════════╡\n",
            "│  2 │ Liberia                  │                      515777 │    1   │\n",
            "├────┼──────────────────────────┼─────────────────────────────┼────────┤\n",
            "│  7 │ Sierra Leone             │                      430217 │    2   │\n",
            "├────┼──────────────────────────┼─────────────────────────────┼────────┤\n",
            "│  0 │ Guinea                   │                      267847 │    3   │\n",
            "├────┼──────────────────────────┼─────────────────────────────┼────────┤\n",
            "│  5 │ Nigeria                  │                         888 │    4   │\n",
            "├────┼──────────────────────────┼─────────────────────────────┼────────┤\n",
            "│  4 │ Mali                     │                         690 │    5   │\n",
            "├────┼──────────────────────────┼─────────────────────────────┼────────┤\n",
            "│ 10 │ United States of America │                         111 │    6   │\n",
            "├────┼──────────────────────────┼─────────────────────────────┼────────┤\n",
            "│  3 │ Liberia 2                │                         105 │    7   │\n",
            "├────┼──────────────────────────┼─────────────────────────────┼────────┤\n",
            "│  1 │ Italy                    │                           0 │    9.5 │\n",
            "├────┼──────────────────────────┼─────────────────────────────┼────────┤\n",
            "│  6 │ Senegal                  │                           0 │    9.5 │\n",
            "├────┼──────────────────────────┼─────────────────────────────┼────────┤\n",
            "│  8 │ Spain                    │                           0 │    9.5 │\n",
            "╘════╧══════════════════════════╧═════════════════════════════╧════════╛\n"
          ]
        }
      ]
    }
  ]
}