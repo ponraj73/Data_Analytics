{
  "nbformat": 4,
  "nbformat_minor": 0,
  "metadata": {
    "colab": {
      "provenance": []
    },
    "kernelspec": {
      "name": "python3",
      "display_name": "Python 3"
    },
    "language_info": {
      "name": "python"
    }
  },
  "cells": [
    {
      "cell_type": "markdown",
      "source": [
        "## **MINI PROJECT 4**"
      ],
      "metadata": {
        "id": "jl59fCEeg-EO"
      }
    },
    {
      "cell_type": "markdown",
      "source": [
        "### **AIRORT AND AIRLINES**"
      ],
      "metadata": {
        "id": "bMrvX6UdhYsd"
      }
    },
    {
      "cell_type": "markdown",
      "source": [
        "Data\n",
        "\"world food production.csv\" in the following link:\n",
        "https://www.kaggle.com/datasets/rafsunahmad/world-food-production\n",
        "\n",
        "Google Drive\n",
        "Read \"world_food_production.csv\" from the following link:\n",
        " https://drive.google.com/drive/folders/1movKQHV3g_mlq7c3ln2hmnkd_g1N477F\n",
        "\n",
        "Read \"medical_data_synthetic.csv\" from the following link:\n",
        "https://drive.google.com/drive/folders/1bxDQ_8sZKxxbpEPcMWkXn_jj1akey3gI\n"
      ],
      "metadata": {
        "id": "lzMEmC_dk8I6"
      }
    },
    {
      "cell_type": "markdown",
      "source": [
        "**PART 3**"
      ],
      "metadata": {
        "id": "KRo7U9R5hQth"
      }
    },
    {
      "cell_type": "code",
      "execution_count": 2,
      "metadata": {
        "id": "0fmc_rPEaCRi"
      },
      "outputs": [],
      "source": [
        "import pandas as pd\n",
        "import traceback\n",
        "import numpy as np\n",
        "import matplotlib.pyplot as plt\n",
        "from requests import get\n",
        "import requests\n",
        "import os\n",
        "from tabulate import tabulate"
      ]
    },
    {
      "cell_type": "code",
      "source": [
        "df_food = pd.read_csv('/content/world food production.csv')\n",
        "print(tabulate(df_food.head(10), headers='keys', tablefmt='psql'))"
      ],
      "metadata": {
        "colab": {
          "base_uri": "https://localhost:8080/"
        },
        "id": "6STfCh1naFf-",
        "outputId": "6db0febd-353f-4e4c-ef99-7809e9988537"
      },
      "execution_count": 3,
      "outputs": [
        {
          "output_type": "stream",
          "name": "stdout",
          "text": [
            "+----+-------------+--------+-----------------------------+------------------------------+-----------------------------+-----------------------------+--------------------------------+------------------------------+---------------------------------------+---------------------------------------+----------------------------------+---------------------------------+----------------------------+---------------------------------+--------------------------------+----------------------------------+---------------------------------+-------------------------------+--------------------------------------+-----------------------------------+--------------------------------------+---------------------------------+--------------------------------+------------------------------+\n",
            "|    | Entity      |   Year |   Maize Production (tonnes) |   Rice  Production ( tonnes) |   Yams  Production (tonnes) |   Wheat Production (tonnes) |   Tomatoes Production (tonnes) |   Tea  Production ( tonnes ) |   Sweet potatoes  Production (tonnes) |   Sunflower seed  Production (tonnes) |   Sugar cane Production (tonnes) |   Soybeans  Production (tonnes) |   Rye  Production (tonnes) |   Potatoes  Production (tonnes) |   Oranges  Production (tonnes) |   Peas, dry Production ( tonnes) |   Palm oil  Production (tonnes) |   Grapes  Production (tonnes) |   Coffee, green Production ( tonnes) |   Cocoa beans Production (tonnes) |   Meat, chicken  Production (tonnes) |   Bananas  Production ( tonnes) |   Avocados Production (tonnes) |   Apples Production (tonnes) |\n",
            "|----+-------------+--------+-----------------------------+------------------------------+-----------------------------+-----------------------------+--------------------------------+------------------------------+---------------------------------------+---------------------------------------+----------------------------------+---------------------------------+----------------------------+---------------------------------+--------------------------------+----------------------------------+---------------------------------+-------------------------------+--------------------------------------+-----------------------------------+--------------------------------------+---------------------------------+--------------------------------+------------------------------|\n",
            "|  0 | Afghanistan |   1961 |                      700000 |                       319000 |                 7.4677e+06  |                   2.279e+06 |                    1.87381e+06 |                        56315 |                           3.27087e+06 |                                 12000 |                            45000 |                           71813 |                      10290 |                          130000 |                          10100 |                           232910 |                     1.13188e+06 |                        225000 |                     870970           |                  835368           |                                 5600 |                     3.13908e+06 |                          63439 |                        15100 |\n",
            "|  1 | Afghanistan |   1962 |                      700000 |                       319000 |                 7.42052e+06 |                   2.279e+06 |                    2.0448e+06  |                        61519 |                           3.56252e+06 |                                 12800 |                            45000 |                           84594 |                       9100 |                          115000 |                          10100 |                           259412 |                     1.11101e+06 |                        225000 |                     883512           |                  867170           |                                 6000 |                     3.18158e+06 |                          65118 |                        15100 |\n",
            "|  2 | Afghanistan |   1963 |                      713000 |                       319000 |                 8.47907e+06 |                   1.947e+06 |                    2.09608e+06 |                        63596 |                           3.40992e+06 |                                 12800 |                            45000 |                           87260 |                      13800 |                          122000 |                          10100 |                           251529 |                     1.145e+06   |                        225000 |                     996674           |                  922621           |                                 6160 |                     3.30426e+06 |                          61760 |                        15100 |\n",
            "|  3 | Afghanistan |   1964 |                      720000 |                       380000 |                 9.11378e+06 |                   2.23e+06  |                    2.38826e+06 |                        66604 |                           3.22934e+06 |                                 12800 |                            45000 |                           76781 |                      16100 |                          129000 |                          12400 |                           247556 |                     1.16083e+06 |                        265000 |                          1.16205e+06 |                       1.19006e+06 |                                 6400 |                     3.39253e+06 |                          62759 |                        18400 |\n",
            "|  4 | Afghanistan |   1965 |                      720000 |                       380000 |                 1.00679e+07 |                   2.282e+06 |                    2.55961e+06 |                        72418 |                           3.1691e+06  |                                 13200 |                            51000 |                           73067 |                      13900 |                          132000 |                          13700 |                           266947 |                     1.13886e+06 |                        287000 |                          1.07508e+06 |                  874245           |                                 6800 |                     3.45085e+06 |                          66269 |                        20400 |\n",
            "|  5 | Afghanistan |   1966 |                      720000 |                       337000 |                 1.08636e+07 |                   2.033e+06 |                    2.69098e+06 |                        90272 |                           3.21481e+06 |                                 14000 |                            51000 |                           77180 |                       8411 |                          136000 |                          15300 |                           280862 |                     1.15165e+06 |                        315000 |                          1.19953e+06 |                  969648           |                                 7200 |                     3.56346e+06 |                          68331 |                        22800 |\n",
            "|  6 | Afghanistan |   1967 |                      768000 |                       396000 |                 1.21231e+07 |                   2.28e+06  |                    2.58019e+06 |                        86111 |                           3.55657e+06 |                                 14000 |                            57000 |                           80884 |                      14301 |                          147000 |                          18500 |                           275066 |                     1.10001e+06 |                        372000 |                          1.08556e+06 |                  982906           |                                 7600 |                     3.60354e+06 |                          71416 |                        27600 |\n",
            "|  7 | Afghanistan |   1968 |                      773000 |                       402000 |                 1.284e+07   |                   2.354e+06 |                    2.79924e+06 |                       100736 |                           3.60121e+06 |                                 14400 |                            57000 |                           90459 |                       9100 |                          150000 |                          18700 |                           293310 |                     1.15402e+06 |                        375000 |                          1.18387e+06 |                  855617           |                                 8000 |                     3.7329e+06  |                          73906 |                        27900 |\n",
            "|  8 | Afghanistan |   1969 |                      785000 |                       407000 |                 1.44964e+07 |                   2.454e+06 |                    3.00156e+06 |                       114363 |                           3.76091e+06 |                                 14800 |                            60000 |                           89000 |                       8100 |                          154000 |                          18900 |                           274316 |                     1.1951e+06  |                        379000 |                          1.2535e+06  |                       1.00466e+06 |                                 9600 |                     3.91473e+06 |                          76704 |                        28200 |\n",
            "|  9 | Afghanistan |   1970 |                      667000 |                       366000 |                 1.64133e+07 |                   2.081e+06 |                    3.11148e+06 |                       121398 |                           4.55889e+06 |                                 14000 |                            55000 |                           97211 |                      15160 |                          144000 |                          18300 |                           284651 |                     1.07708e+06 |                        364000 |                          1.295e+06   |                       1.12084e+06 |                                 9600 |                     4.07616e+06 |                          78464 |                        27300 |\n",
            "+----+-------------+--------+-----------------------------+------------------------------+-----------------------------+-----------------------------+--------------------------------+------------------------------+---------------------------------------+---------------------------------------+----------------------------------+---------------------------------+----------------------------+---------------------------------+--------------------------------+----------------------------------+---------------------------------+-------------------------------+--------------------------------------+-----------------------------------+--------------------------------------+---------------------------------+--------------------------------+------------------------------+\n"
          ]
        }
      ]
    },
    {
      "cell_type": "markdown",
      "metadata": {
        "id": "IZfgWv5k104p"
      },
      "source": [
        " **1) Read the input csv file from the dataframe and convert columns to rows**\n",
        " **The \"Value\" column values should come from the crop column names such as Maize Production (tonnes), Rice Production (tonnes) from the input csv file.\n",
        " (hint: UnPivot melt)**."
      ]
    },
    {
      "cell_type": "code",
      "source": [
        "df_melted = pd.melt(df_food, id_vars=['Entity', 'Year'], var_name='Productions', value_name='Value')\n",
        "production_columns = df_food.columns[2:]\n",
        "df_melted['Productions'] = pd.Categorical(df_melted['Productions'], categories=production_columns, ordered=True)\n",
        "df_melted = df_melted.sort_values(by=['Entity', 'Year', 'Productions']).reset_index(drop=True)\n",
        "\n",
        "print(tabulate(df_melted.head(20), headers='keys', tablefmt='psql'))"
      ],
      "metadata": {
        "colab": {
          "base_uri": "https://localhost:8080/"
        },
        "id": "HgbeiKfbaHR5",
        "outputId": "4d32e74f-f178-4323-846f-f9e51d5baefd"
      },
      "execution_count": 4,
      "outputs": [
        {
          "output_type": "stream",
          "name": "stdout",
          "text": [
            "+----+-------------+--------+-------------------------------------+------------------+\n",
            "|    | Entity      |   Year | Productions                         |            Value |\n",
            "|----+-------------+--------+-------------------------------------+------------------|\n",
            "|  0 | Afghanistan |   1961 | Maize Production (tonnes)           | 700000           |\n",
            "|  1 | Afghanistan |   1961 | Rice  Production ( tonnes)          | 319000           |\n",
            "|  2 | Afghanistan |   1961 | Yams  Production (tonnes)           |      7.4677e+06  |\n",
            "|  3 | Afghanistan |   1961 | Wheat Production (tonnes)           |      2.279e+06   |\n",
            "|  4 | Afghanistan |   1961 | Tomatoes Production (tonnes)        |      1.87381e+06 |\n",
            "|  5 | Afghanistan |   1961 | Tea  Production ( tonnes )          |  56315           |\n",
            "|  6 | Afghanistan |   1961 | Sweet potatoes  Production (tonnes) |      3.27087e+06 |\n",
            "|  7 | Afghanistan |   1961 | Sunflower seed  Production (tonnes) |  12000           |\n",
            "|  8 | Afghanistan |   1961 | Sugar cane Production (tonnes)      |  45000           |\n",
            "|  9 | Afghanistan |   1961 | Soybeans  Production (tonnes)       |  71813           |\n",
            "| 10 | Afghanistan |   1961 | Rye  Production (tonnes)            |  10290           |\n",
            "| 11 | Afghanistan |   1961 | Potatoes  Production (tonnes)       | 130000           |\n",
            "| 12 | Afghanistan |   1961 | Oranges  Production (tonnes)        |  10100           |\n",
            "| 13 | Afghanistan |   1961 | Peas, dry Production ( tonnes)      | 232910           |\n",
            "| 14 | Afghanistan |   1961 | Palm oil  Production (tonnes)       |      1.13188e+06 |\n",
            "| 15 | Afghanistan |   1961 | Grapes  Production (tonnes)         | 225000           |\n",
            "| 16 | Afghanistan |   1961 | Coffee, green Production ( tonnes)  | 870970           |\n",
            "| 17 | Afghanistan |   1961 | Cocoa beans Production (tonnes)     | 835368           |\n",
            "| 18 | Afghanistan |   1961 | Meat, chicken  Production (tonnes)  |   5600           |\n",
            "| 19 | Afghanistan |   1961 | Bananas  Production ( tonnes)       |      3.13908e+06 |\n",
            "+----+-------------+--------+-------------------------------------+------------------+\n"
          ]
        }
      ]
    },
    {
      "cell_type": "markdown",
      "source": [
        " **2)  For each unique value in column \"Productions\", you have to assign a unique integer/float value. The following is an example output with unique float value. You are not supposed to use custom function. You are not supposed to provide explicit mapping between values in \"Produtions\" and integer/float values (hint: use ordinal encoding).**"
      ],
      "metadata": {
        "id": "TfqoBw48QTU6"
      }
    },
    {
      "cell_type": "code",
      "source": [
        "from sklearn.preprocessing import OrdinalEncoder\n",
        "df = df_melted.Productions.unique()\n",
        "prod_categories = df\n",
        "enc = OrdinalEncoder(categories=[prod_categories], dtype=float)\n",
        "df_melted[['Productions']] = enc.fit_transform(df_melted[['Productions']])\n",
        "df_melted = df_melted.reset_index(drop=True)\n",
        "print(tabulate(df_melted.head(20), headers='keys', tablefmt='psql'))"
      ],
      "metadata": {
        "colab": {
          "base_uri": "https://localhost:8080/"
        },
        "id": "VBLZpndZaOIF",
        "outputId": "fb161e0f-25da-440e-eb73-215708314f12"
      },
      "execution_count": 6,
      "outputs": [
        {
          "output_type": "stream",
          "name": "stdout",
          "text": [
            "+----+-------------+--------+---------------+------------------+\n",
            "|    | Entity      |   Year |   Productions |            Value |\n",
            "|----+-------------+--------+---------------+------------------|\n",
            "|  0 | Afghanistan |   1961 |             0 | 700000           |\n",
            "|  1 | Afghanistan |   1961 |             1 | 319000           |\n",
            "|  2 | Afghanistan |   1961 |             2 |      7.4677e+06  |\n",
            "|  3 | Afghanistan |   1961 |             3 |      2.279e+06   |\n",
            "|  4 | Afghanistan |   1961 |             4 |      1.87381e+06 |\n",
            "|  5 | Afghanistan |   1961 |             5 |  56315           |\n",
            "|  6 | Afghanistan |   1961 |             6 |      3.27087e+06 |\n",
            "|  7 | Afghanistan |   1961 |             7 |  12000           |\n",
            "|  8 | Afghanistan |   1961 |             8 |  45000           |\n",
            "|  9 | Afghanistan |   1961 |             9 |  71813           |\n",
            "| 10 | Afghanistan |   1961 |            10 |  10290           |\n",
            "| 11 | Afghanistan |   1961 |            11 | 130000           |\n",
            "| 12 | Afghanistan |   1961 |            12 |  10100           |\n",
            "| 13 | Afghanistan |   1961 |            13 | 232910           |\n",
            "| 14 | Afghanistan |   1961 |            14 |      1.13188e+06 |\n",
            "| 15 | Afghanistan |   1961 |            15 | 225000           |\n",
            "| 16 | Afghanistan |   1961 |            16 | 870970           |\n",
            "| 17 | Afghanistan |   1961 |            17 | 835368           |\n",
            "| 18 | Afghanistan |   1961 |            18 |   5600           |\n",
            "| 19 | Afghanistan |   1961 |            19 |      3.13908e+06 |\n",
            "+----+-------------+--------+---------------+------------------+\n"
          ]
        }
      ]
    },
    {
      "cell_type": "markdown",
      "source": [
        " **3)  Read \"medical_data_synthetic.csv\" and convert yes/no to 1/0 for non-numeric column (\"obesity\") without using custom function (lambda) for the medical dataset here. Column \"gender\" need to be converted to numeric too without custom function.**\n",
        "**(hint: use label encoding in sklearn library for \"obesity\" and use ordinal encoding for \"gender\")**"
      ],
      "metadata": {
        "id": "Vx2XlT3KPyDT"
      }
    },
    {
      "cell_type": "code",
      "source": [
        "import pandas as pd\n",
        "from sklearn.preprocessing import LabelEncoder, OrdinalEncoder\n",
        "\n",
        "df_medical = pd.read_csv('/content/medical_data_synthetic.csv')\n",
        "le = LabelEncoder()\n",
        "df_medical['obesity'] = le.fit_transform(df_medical['obesity'])\n",
        "\n",
        "ord = OrdinalEncoder()\n",
        "df_medical['gender'] = ord.fit_transform(df_medical[['gender']])\n",
        "\n",
        "print(tabulate(df_medical, headers='keys', tablefmt='psql'))"
      ],
      "metadata": {
        "colab": {
          "base_uri": "https://localhost:8080/"
        },
        "id": "iR5hQByZkV5T",
        "outputId": "f63db297-85dd-4e96-bd44-61b1ef2f7ba0"
      },
      "execution_count": 15,
      "outputs": [
        {
          "output_type": "stream",
          "name": "stdout",
          "text": [
            "+----+----------------+------+---------+-----------+----------+\n",
            "|    | patient_name   |   bp |   sugar |   obesity |   gender |\n",
            "|----+----------------+------+---------+-----------+----------|\n",
            "|  0 | ram            |  111 |     110 |         1 |        1 |\n",
            "|  1 | radha          |  100 |     120 |         0 |        0 |\n",
            "|  2 | kumar          |  120 |     120 |         1 |        1 |\n",
            "|  3 | john           |  130 |      90 |         0 |        1 |\n",
            "|  4 | lily           |   92 |      91 |         1 |        0 |\n",
            "+----+----------------+------+---------+-----------+----------+\n"
          ]
        }
      ]
    }
  ]
}