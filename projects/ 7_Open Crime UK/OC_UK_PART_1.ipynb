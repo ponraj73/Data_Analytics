{
  "nbformat": 4,
  "nbformat_minor": 0,
  "metadata": {
    "colab": {
      "provenance": []
    },
    "kernelspec": {
      "name": "python3",
      "display_name": "Python 3"
    },
    "language_info": {
      "name": "python"
    }
  },
  "cells": [
    {
      "cell_type": "markdown",
      "source": [
        "#### **MiniProject 7 - Open Crime UK**"
      ],
      "metadata": {
        "id": "h4MHcbn8mduC"
      }
    },
    {
      "cell_type": "markdown",
      "source": [
        "Part I\n",
        "Questions\n",
        "\n",
        "1)Top 10 Type by # events. Type column is the event (see sample data in the end of this document ).\n",
        "  Output:\n",
        "  type, num_events, rank\n",
        "\n",
        "2)Top 10 Ethnics by # events. Use column “Officer-defined ethnicity”\n",
        "  Output:\n",
        "  type, office_num_events, office_ethnic_rank\n",
        "\n",
        "3)Top 10 Ethnics by # events. Use column “Self-defined ethnicity”\n",
        "  Output:\n",
        "  type, self_num_events, self_ethnic_rank\n",
        "\n",
        "4)Merge 2 and 3 above on type.\n",
        "  Output:\n",
        "  type, office_num_events, office_ethnic_rank, self_num_events, self_ethnic_rank\n",
        "\n",
        "5)Top 10 Type by Gender = Male.\n",
        "  Output:\n",
        "  type, num_events_men, rank_men\n",
        "\n",
        "6)Top 10 Type by Gender = Female.\n",
        "  Output:\n",
        "  type, num_events_men, rank_women\n",
        "\n",
        "7)Group bar chart plot (vertical) with output from 5 and 6.\n",
        "[1][2]\n",
        "Bar 1 -> Male\n",
        "Bar 2 -> Female\n",
        "\n",
        "8)For Gender = Male, # events by “Age range”\n",
        "  Output:\n",
        "  type, age_range_male, num_events_male, rank_male\n",
        "\n",
        "9)For Gender = Female, # events by “Age range”\n",
        "  Output:\n",
        "  type, age_range_female, num_events_female, rank_female\n",
        "\n",
        "10)Merge 8 and 9 on column “type”\n",
        "  Output:\n",
        "  type, age_range_male, num_events_male, rank_male, age_range_female, num_events_female, rank_female\n",
        "\n"
      ],
      "metadata": {
        "id": "jkbCJUJwmfuv"
      }
    },
    {
      "cell_type": "code",
      "execution_count": 1,
      "metadata": {
        "id": "zjycg6VQmPxc"
      },
      "outputs": [],
      "source": [
        "import pandas as pd\n",
        "import numpy as np\n",
        "import matplotlib.pyplot as plt\n",
        "import seaborn as sns\n",
        "from tabulate import tabulate"
      ]
    },
    {
      "cell_type": "code",
      "source": [
        "from google.colab import drive\n",
        "drive.mount('/content/gdrive/')"
      ],
      "metadata": {
        "colab": {
          "base_uri": "https://localhost:8080/"
        },
        "id": "BRcZRLrYmqbI",
        "outputId": "8ca456c5-3e47-4226-e9fe-4496b5f785bb"
      },
      "execution_count": 3,
      "outputs": [
        {
          "output_type": "stream",
          "name": "stdout",
          "text": [
            "Mounted at /content/gdrive/\n"
          ]
        }
      ]
    },
    {
      "cell_type": "code",
      "source": [
        "from google.colab import files\n",
        "uploaded = files.upload()"
      ],
      "metadata": {
        "colab": {
          "base_uri": "https://localhost:8080/",
          "height": 73
        },
        "id": "KqC7bB_SogW5",
        "outputId": "34118196-7807-4219-c126-8914d1b03e58"
      },
      "execution_count": 6,
      "outputs": [
        {
          "output_type": "display_data",
          "data": {
            "text/plain": [
              "<IPython.core.display.HTML object>"
            ],
            "text/html": [
              "\n",
              "     <input type=\"file\" id=\"files-b1f5f9f5-d473-43a1-8031-005707bede3e\" name=\"files[]\" multiple disabled\n",
              "        style=\"border:none\" />\n",
              "     <output id=\"result-b1f5f9f5-d473-43a1-8031-005707bede3e\">\n",
              "      Upload widget is only available when the cell has been executed in the\n",
              "      current browser session. Please rerun this cell to enable.\n",
              "      </output>\n",
              "      <script>// Copyright 2017 Google LLC\n",
              "//\n",
              "// Licensed under the Apache License, Version 2.0 (the \"License\");\n",
              "// you may not use this file except in compliance with the License.\n",
              "// You may obtain a copy of the License at\n",
              "//\n",
              "//      http://www.apache.org/licenses/LICENSE-2.0\n",
              "//\n",
              "// Unless required by applicable law or agreed to in writing, software\n",
              "// distributed under the License is distributed on an \"AS IS\" BASIS,\n",
              "// WITHOUT WARRANTIES OR CONDITIONS OF ANY KIND, either express or implied.\n",
              "// See the License for the specific language governing permissions and\n",
              "// limitations under the License.\n",
              "\n",
              "/**\n",
              " * @fileoverview Helpers for google.colab Python module.\n",
              " */\n",
              "(function(scope) {\n",
              "function span(text, styleAttributes = {}) {\n",
              "  const element = document.createElement('span');\n",
              "  element.textContent = text;\n",
              "  for (const key of Object.keys(styleAttributes)) {\n",
              "    element.style[key] = styleAttributes[key];\n",
              "  }\n",
              "  return element;\n",
              "}\n",
              "\n",
              "// Max number of bytes which will be uploaded at a time.\n",
              "const MAX_PAYLOAD_SIZE = 100 * 1024;\n",
              "\n",
              "function _uploadFiles(inputId, outputId) {\n",
              "  const steps = uploadFilesStep(inputId, outputId);\n",
              "  const outputElement = document.getElementById(outputId);\n",
              "  // Cache steps on the outputElement to make it available for the next call\n",
              "  // to uploadFilesContinue from Python.\n",
              "  outputElement.steps = steps;\n",
              "\n",
              "  return _uploadFilesContinue(outputId);\n",
              "}\n",
              "\n",
              "// This is roughly an async generator (not supported in the browser yet),\n",
              "// where there are multiple asynchronous steps and the Python side is going\n",
              "// to poll for completion of each step.\n",
              "// This uses a Promise to block the python side on completion of each step,\n",
              "// then passes the result of the previous step as the input to the next step.\n",
              "function _uploadFilesContinue(outputId) {\n",
              "  const outputElement = document.getElementById(outputId);\n",
              "  const steps = outputElement.steps;\n",
              "\n",
              "  const next = steps.next(outputElement.lastPromiseValue);\n",
              "  return Promise.resolve(next.value.promise).then((value) => {\n",
              "    // Cache the last promise value to make it available to the next\n",
              "    // step of the generator.\n",
              "    outputElement.lastPromiseValue = value;\n",
              "    return next.value.response;\n",
              "  });\n",
              "}\n",
              "\n",
              "/**\n",
              " * Generator function which is called between each async step of the upload\n",
              " * process.\n",
              " * @param {string} inputId Element ID of the input file picker element.\n",
              " * @param {string} outputId Element ID of the output display.\n",
              " * @return {!Iterable<!Object>} Iterable of next steps.\n",
              " */\n",
              "function* uploadFilesStep(inputId, outputId) {\n",
              "  const inputElement = document.getElementById(inputId);\n",
              "  inputElement.disabled = false;\n",
              "\n",
              "  const outputElement = document.getElementById(outputId);\n",
              "  outputElement.innerHTML = '';\n",
              "\n",
              "  const pickedPromise = new Promise((resolve) => {\n",
              "    inputElement.addEventListener('change', (e) => {\n",
              "      resolve(e.target.files);\n",
              "    });\n",
              "  });\n",
              "\n",
              "  const cancel = document.createElement('button');\n",
              "  inputElement.parentElement.appendChild(cancel);\n",
              "  cancel.textContent = 'Cancel upload';\n",
              "  const cancelPromise = new Promise((resolve) => {\n",
              "    cancel.onclick = () => {\n",
              "      resolve(null);\n",
              "    };\n",
              "  });\n",
              "\n",
              "  // Wait for the user to pick the files.\n",
              "  const files = yield {\n",
              "    promise: Promise.race([pickedPromise, cancelPromise]),\n",
              "    response: {\n",
              "      action: 'starting',\n",
              "    }\n",
              "  };\n",
              "\n",
              "  cancel.remove();\n",
              "\n",
              "  // Disable the input element since further picks are not allowed.\n",
              "  inputElement.disabled = true;\n",
              "\n",
              "  if (!files) {\n",
              "    return {\n",
              "      response: {\n",
              "        action: 'complete',\n",
              "      }\n",
              "    };\n",
              "  }\n",
              "\n",
              "  for (const file of files) {\n",
              "    const li = document.createElement('li');\n",
              "    li.append(span(file.name, {fontWeight: 'bold'}));\n",
              "    li.append(span(\n",
              "        `(${file.type || 'n/a'}) - ${file.size} bytes, ` +\n",
              "        `last modified: ${\n",
              "            file.lastModifiedDate ? file.lastModifiedDate.toLocaleDateString() :\n",
              "                                    'n/a'} - `));\n",
              "    const percent = span('0% done');\n",
              "    li.appendChild(percent);\n",
              "\n",
              "    outputElement.appendChild(li);\n",
              "\n",
              "    const fileDataPromise = new Promise((resolve) => {\n",
              "      const reader = new FileReader();\n",
              "      reader.onload = (e) => {\n",
              "        resolve(e.target.result);\n",
              "      };\n",
              "      reader.readAsArrayBuffer(file);\n",
              "    });\n",
              "    // Wait for the data to be ready.\n",
              "    let fileData = yield {\n",
              "      promise: fileDataPromise,\n",
              "      response: {\n",
              "        action: 'continue',\n",
              "      }\n",
              "    };\n",
              "\n",
              "    // Use a chunked sending to avoid message size limits. See b/62115660.\n",
              "    let position = 0;\n",
              "    do {\n",
              "      const length = Math.min(fileData.byteLength - position, MAX_PAYLOAD_SIZE);\n",
              "      const chunk = new Uint8Array(fileData, position, length);\n",
              "      position += length;\n",
              "\n",
              "      const base64 = btoa(String.fromCharCode.apply(null, chunk));\n",
              "      yield {\n",
              "        response: {\n",
              "          action: 'append',\n",
              "          file: file.name,\n",
              "          data: base64,\n",
              "        },\n",
              "      };\n",
              "\n",
              "      let percentDone = fileData.byteLength === 0 ?\n",
              "          100 :\n",
              "          Math.round((position / fileData.byteLength) * 100);\n",
              "      percent.textContent = `${percentDone}% done`;\n",
              "\n",
              "    } while (position < fileData.byteLength);\n",
              "  }\n",
              "\n",
              "  // All done.\n",
              "  yield {\n",
              "    response: {\n",
              "      action: 'complete',\n",
              "    }\n",
              "  };\n",
              "}\n",
              "\n",
              "scope.google = scope.google || {};\n",
              "scope.google.colab = scope.google.colab || {};\n",
              "scope.google.colab._files = {\n",
              "  _uploadFiles,\n",
              "  _uploadFilesContinue,\n",
              "};\n",
              "})(self);\n",
              "</script> "
            ]
          },
          "metadata": {}
        },
        {
          "output_type": "stream",
          "name": "stdout",
          "text": [
            "Saving 2019-07-20250203T114519Z-001.zip to 2019-07-20250203T114519Z-001.zip\n"
          ]
        }
      ]
    },
    {
      "cell_type": "code",
      "source": [
        "import pandas as pd\n",
        "import glob\n",
        "import os\n",
        "\n",
        "def read_csv_files_in_folder(folder_path):\n",
        "    all_dataframes = []\n",
        "    for filename in glob.glob(os.path.join(folder_path, '*.csv')):\n",
        "        try:\n",
        "            df = pd.read_csv(filename)\n",
        "            all_dataframes.append(df)\n",
        "        except pd.errors.ParserError:\n",
        "            print(f\"Error reading file: {filename}. Skipping.\")\n",
        "        except Exception as e:  # Catch other potential errors\n",
        "            print(f\"An unexpected error occurred while reading {filename}: {e}\")\n",
        "\n",
        "    if all_dataframes:\n",
        "        return pd.concat(all_dataframes, ignore_index=True)\n",
        "    else:\n",
        "        return None\n",
        "\n",
        "extracted_folder_path = '/content/temp_extracted_files/2019-07' # Update this to the actual path\n",
        "\n",
        "combined_df = read_csv_files_in_folder(extracted_folder_path)\n",
        "\n",
        "if combined_df is not None:\n",
        "    print(combined_df.head())\n",
        "else:\n",
        "    print(\"No CSV files found or errors occurred during reading.\")\n"
      ],
      "metadata": {
        "colab": {
          "base_uri": "https://localhost:8080/"
        },
        "collapsed": true,
        "id": "Uhla299ZpNva",
        "outputId": "33f82084-1b38-4bef-e75a-c43e81d7e39f"
      },
      "execution_count": 21,
      "outputs": [
        {
          "output_type": "stream",
          "name": "stdout",
          "text": [
            "            Type                       Date Part of a policing operation  \\\n",
            "0  Person search  2019-06-30T23:10:00+00:00                        False   \n",
            "1  Person search  2019-06-30T23:12:00+00:00                        False   \n",
            "2  Person search  2019-06-30T23:12:00+00:00                        False   \n",
            "3  Person search  2019-06-30T23:50:00+00:00                        False   \n",
            "4  Person search  2019-07-01T00:42:00+00:00                        False   \n",
            "\n",
            "   Policing operation   Latitude  Longitude Gender Age range  \\\n",
            "0                 NaN        NaN        NaN   Male   over 34   \n",
            "1                 NaN        NaN        NaN   Male     18-24   \n",
            "2                 NaN        NaN        NaN   Male     18-24   \n",
            "3                 NaN        NaN        NaN   Male     18-24   \n",
            "4                 NaN  51.791131  -0.671176   Male     18-24   \n",
            "\n",
            "                              Self-defined ethnicity  \\\n",
            "0  White - English/Welsh/Scottish/Northern Irish/...   \n",
            "1                                                NaN   \n",
            "2                    Other ethnic group - Not stated   \n",
            "3                    Other ethnic group - Not stated   \n",
            "4  White - English/Welsh/Scottish/Northern Irish/...   \n",
            "\n",
            "  Officer-defined ethnicity  ... Month Reported by Falls within Location  \\\n",
            "0                     White  ...   NaN         NaN          NaN      NaN   \n",
            "1                     White  ...   NaN         NaN          NaN      NaN   \n",
            "2                     White  ...   NaN         NaN          NaN      NaN   \n",
            "3                     Asian  ...   NaN         NaN          NaN      NaN   \n",
            "4                     White  ...   NaN         NaN          NaN      NaN   \n",
            "\n",
            "  LSOA code LSOA name Outcome type Crime type Last outcome category Context  \n",
            "0       NaN       NaN          NaN        NaN                   NaN     NaN  \n",
            "1       NaN       NaN          NaN        NaN                   NaN     NaN  \n",
            "2       NaN       NaN          NaN        NaN                   NaN     NaN  \n",
            "3       NaN       NaN          NaN        NaN                   NaN     NaN  \n",
            "4       NaN       NaN          NaN        NaN                   NaN     NaN  \n",
            "\n",
            "[5 rows x 26 columns]\n"
          ]
        }
      ]
    },
    {
      "cell_type": "markdown",
      "source": [
        "**1)Top 10 Type by # events. Type column is the event (see sample data in the end of this document ).**\n",
        "Output:\n",
        "type, num_events, rank\n"
      ],
      "metadata": {
        "id": "2gQO4xCHsMus"
      }
    },
    {
      "cell_type": "code",
      "source": [
        "if combined_df is not None:\n",
        "    type_counts = combined_df['Type'].value_counts().reset_index()\n",
        "    type_counts.columns = ['type', 'num_events']\n",
        "    type_counts['rank'] = type_counts['num_events'].rank(ascending=False, method='dense')\n",
        "    top_3_types = type_counts.head(3)\n",
        "    print(tabulate(top_3_types, headers='keys', tablefmt='psql'))\n",
        "else:\n",
        "    print(\"DataFrame 'combined_df' is not properly loaded. Please check file paths and data.\")\n"
      ],
      "metadata": {
        "colab": {
          "base_uri": "https://localhost:8080/"
        },
        "id": "azjRYTomtJQb",
        "outputId": "912ed4f8-af03-4d77-e4c8-032c6141474b"
      },
      "execution_count": 27,
      "outputs": [
        {
          "output_type": "stream",
          "name": "stdout",
          "text": [
            "+----+---------------------------+--------------+--------+\n",
            "|    | type                      |   num_events |   rank |\n",
            "|----+---------------------------+--------------+--------|\n",
            "|  0 | Person search             |        17275 |      1 |\n",
            "|  1 | Person and Vehicle search |         4555 |      2 |\n",
            "|  2 | Vehicle search            |          596 |      3 |\n",
            "+----+---------------------------+--------------+--------+\n"
          ]
        }
      ]
    },
    {
      "cell_type": "markdown",
      "source": [
        "**2) Top 10 Ethnics by # events. Use column “Officer-defined ethnicity”**\n",
        "Output:\n",
        "type, office_num_events, office_ethnic_rank\n"
      ],
      "metadata": {
        "id": "KDZx4QMPpNb7"
      }
    },
    {
      "cell_type": "code",
      "source": [
        "if combined_df is not None:\n",
        "    ethnicity_counts = combined_df.groupby(['Type', 'Officer-defined ethnicity']).size().reset_index(name='office_num_events')\n",
        "    ethnicity_counts['office_ethnic_rank'] = ethnicity_counts.groupby('Type')['office_num_events'].rank(ascending=False, method='dense')\n",
        "    top_10_ethnicities = ethnicity_counts.sort_values(by=['Type', 'office_ethnic_rank']).groupby('Type').head(10)\n",
        "    print(tabulate(top_10_ethnicities, headers='keys', tablefmt='psql'))\n",
        "else:\n",
        "    print(\"DataFrame 'combined_df' is not properly loaded. Please check file paths and data.\")\n"
      ],
      "metadata": {
        "colab": {
          "base_uri": "https://localhost:8080/"
        },
        "id": "bEipUN8tvugb",
        "outputId": "4c43faf3-4201-4a48-b31a-c065f7eba1b4"
      },
      "execution_count": 43,
      "outputs": [
        {
          "output_type": "stream",
          "name": "stdout",
          "text": [
            "+----+---------------------------+-----------------------------+---------------------+----------------------+\n",
            "|    | Type                      | Officer-defined ethnicity   |   office_num_events |   office_ethnic_rank |\n",
            "|----+---------------------------+-----------------------------+---------------------+----------------------|\n",
            "|  5 | Person and Vehicle search | White                       |                2970 |                    1 |\n",
            "|  0 | Person and Vehicle search | Asian                       |                 663 |                    2 |\n",
            "|  1 | Person and Vehicle search | Black                       |                 494 |                    3 |\n",
            "|  4 | Person and Vehicle search | Unknown                     |                 300 |                    4 |\n",
            "|  3 | Person and Vehicle search | Other                       |                  93 |                    5 |\n",
            "|  2 | Person and Vehicle search | Mixed                       |                  35 |                    6 |\n",
            "| 11 | Person search             | White                       |               12172 |                    1 |\n",
            "| 10 | Person search             | Unknown                     |                2109 |                    2 |\n",
            "|  7 | Person search             | Black                       |                1389 |                    3 |\n",
            "|  6 | Person search             | Asian                       |                1193 |                    4 |\n",
            "|  9 | Person search             | Other                       |                 317 |                    5 |\n",
            "|  8 | Person search             | Mixed                       |                  95 |                    6 |\n",
            "| 15 | Vehicle search            | Unknown                     |                 505 |                    1 |\n",
            "| 16 | Vehicle search            | White                       |                  65 |                    2 |\n",
            "| 12 | Vehicle search            | Asian                       |                  11 |                    3 |\n",
            "| 14 | Vehicle search            | Other                       |                   9 |                    4 |\n",
            "| 13 | Vehicle search            | Black                       |                   6 |                    5 |\n",
            "+----+---------------------------+-----------------------------+---------------------+----------------------+\n"
          ]
        }
      ]
    },
    {
      "cell_type": "markdown",
      "source": [
        "**3) Top 10 Ethnics by # events. Use column “Officer-defined ethnicity”**\n",
        "Output:\n",
        "type, office_num_events, office_ethnic_rank\n"
      ],
      "metadata": {
        "id": "8v2OKEoUwBv-"
      }
    },
    {
      "cell_type": "code",
      "source": [
        "if combined_df is not None:\n",
        "    ethnicity_counts = combined_df.groupby(['Type', 'Self-defined ethnicity']).size().reset_index(name='self_num_events')\n",
        "    ethnicity_counts['self_ethnic_rank'] = ethnicity_counts.groupby('Type')['self_num_events'].rank(ascending=False, method='dense')\n",
        "    top_10_ethnicities = ethnicity_counts.sort_values(by=['Type', 'self_ethnic_rank']).groupby('Type').head(10)\n",
        "    print(tabulate(top_10_ethnicities, headers='keys', tablefmt='psql'))\n",
        "else:\n",
        "    print(\"DataFrame 'combined_df' is not properly loaded. Please check file paths and data.\")\n"
      ],
      "metadata": {
        "colab": {
          "base_uri": "https://localhost:8080/"
        },
        "id": "rCUwMxjiwBXv",
        "outputId": "0b0275c8-bb95-4c99-a87f-f9069de4da02"
      },
      "execution_count": 45,
      "outputs": [
        {
          "output_type": "stream",
          "name": "stdout",
          "text": [
            "+----+---------------------------+--------------------------------------------------------------------------------------+-------------------+--------------------+\n",
            "|    | Type                      | Self-defined ethnicity                                                               |   self_num_events |   self_ethnic_rank |\n",
            "|----+---------------------------+--------------------------------------------------------------------------------------+-------------------+--------------------|\n",
            "| 15 | Person and Vehicle search | White - English/Welsh/Scottish/Northern Irish/British                                |              2580 |                  1 |\n",
            "| 13 | Person and Vehicle search | Other ethnic group - Not stated                                                      |               487 |                  2 |\n",
            "|  4 | Person and Vehicle search | Asian/Asian British - Pakistani                                                      |               347 |                  3 |\n",
            "| 14 | Person and Vehicle search | White - Any other White background                                                   |               199 |                  4 |\n",
            "|  7 | Person and Vehicle search | Black/African/Caribbean/Black British - Caribbean                                    |               139 |                  5 |\n",
            "|  5 | Person and Vehicle search | Black/African/Caribbean/Black British - African                                      |               135 |                  6 |\n",
            "|  0 | Person and Vehicle search | Asian/Asian British - Any other Asian background                                     |                99 |                  7 |\n",
            "|  6 | Person and Vehicle search | Black/African/Caribbean/Black British - Any other Black/African/Caribbean background |                95 |                  8 |\n",
            "|  3 | Person and Vehicle search | Asian/Asian British - Indian                                                         |                80 |                  9 |\n",
            "| 11 | Person and Vehicle search | Mixed/Multiple ethnic groups - White and Black Caribbean                             |                66 |                 10 |\n",
            "| 34 | Person search             | White - English/Welsh/Scottish/Northern Irish/British                                |             11049 |                  1 |\n",
            "| 32 | Person search             | Other ethnic group - Not stated                                                      |              2003 |                  2 |\n",
            "| 33 | Person search             | White - Any other White background                                                   |               725 |                  3 |\n",
            "| 22 | Person search             | Asian/Asian British - Pakistani                                                      |               534 |                  4 |\n",
            "| 23 | Person search             | Black/African/Caribbean/Black British - African                                      |               464 |                  5 |\n",
            "| 25 | Person search             | Black/African/Caribbean/Black British - Caribbean                                    |               394 |                  6 |\n",
            "| 24 | Person search             | Black/African/Caribbean/Black British - Any other Black/African/Caribbean background |               366 |                  7 |\n",
            "| 18 | Person search             | Asian/Asian British - Any other Asian background                                     |               293 |                  8 |\n",
            "| 26 | Person search             | Mixed/Multiple ethnic groups - Any other Mixed/Multiple ethnic background            |               182 |                  9 |\n",
            "| 29 | Person search             | Mixed/Multiple ethnic groups - White and Black Caribbean                             |               175 |                 10 |\n",
            "| 39 | Vehicle search            | Other ethnic group - Not stated                                                      |                83 |                  1 |\n",
            "| 40 | Vehicle search            | White - English/Welsh/Scottish/Northern Irish/British                                |                 7 |                  2 |\n",
            "| 37 | Vehicle search            | Asian/Asian British - Any other Asian background                                     |                 1 |                  3 |\n",
            "| 38 | Vehicle search            | Asian/Asian British - Pakistani                                                      |                 1 |                  3 |\n",
            "| 41 | Vehicle search            | White - Irish                                                                        |                 1 |                  3 |\n",
            "+----+---------------------------+--------------------------------------------------------------------------------------+-------------------+--------------------+\n"
          ]
        }
      ]
    },
    {
      "cell_type": "markdown",
      "source": [
        "**4) Merge 2 and 3 above on type.**\n",
        "Output:\n",
        "type, office_num_events, office_ethnic_rank, self_num_events, self_ethnic_rank\n"
      ],
      "metadata": {
        "id": "CF-pL_0WwA5k"
      }
    },
    {
      "cell_type": "code",
      "source": [
        "# prompt: Merge 2 and 3 above on type.\n",
        "# Output:\n",
        "# type, office_num_events, office_ethnic_rank, self_num_events, self_ethnic_rank\n",
        "# only 10\n",
        "\n",
        "# Merge the results of steps 2 and 3\n",
        "if combined_df is not None:\n",
        "    # Step 2 results (Officer-defined ethnicity)\n",
        "    office_ethnicity_counts = combined_df.groupby(['Type', 'Officer-defined ethnicity']).size().reset_index(name='office_num_events')\n",
        "    office_ethnicity_counts['office_ethnic_rank'] = office_ethnicity_counts.groupby('Type')['office_num_events'].rank(ascending=False, method='dense')\n",
        "    office_ethnicity_counts = office_ethnicity_counts.sort_values(by=['Type', 'office_ethnic_rank']).groupby('Type').head(10)\n",
        "\n",
        "    # Step 3 results (Self-defined ethnicity)\n",
        "    self_ethnicity_counts = combined_df.groupby(['Type', 'Self-defined ethnicity']).size().reset_index(name='self_num_events')\n",
        "    self_ethnicity_counts['self_ethnic_rank'] = self_ethnicity_counts.groupby('Type')['self_num_events'].rank(ascending=False, method='dense')\n",
        "    self_ethnicity_counts = self_ethnicity_counts.sort_values(by=['Type', 'self_ethnic_rank']).groupby('Type').head(10)\n",
        "\n",
        "    # Merge the dataframes\n",
        "    merged_df = pd.merge(office_ethnicity_counts, self_ethnicity_counts, on='Type', how='outer')\n",
        "\n",
        "    # Keep only the top 10 based on office_ethnic_rank\n",
        "    merged_df = merged_df.sort_values(by=['Type', 'office_ethnic_rank']).groupby('Type').head(5)\n",
        "\n",
        "    print(tabulate(merged_df, headers='keys', tablefmt='psql'))\n",
        "else:\n",
        "    print(\"DataFrame 'combined_df' is not properly loaded. Please check file paths and data.\")\n"
      ],
      "metadata": {
        "colab": {
          "base_uri": "https://localhost:8080/"
        },
        "id": "RdWAAw7Ewe90",
        "outputId": "b807ad89-d480-4d30-86ca-53eec88dfef3"
      },
      "execution_count": 49,
      "outputs": [
        {
          "output_type": "stream",
          "name": "stdout",
          "text": [
            "+-----+---------------------------+-----------------------------+---------------------+----------------------+-------------------------------------------------------+-------------------+--------------------+\n",
            "|     | Type                      | Officer-defined ethnicity   |   office_num_events |   office_ethnic_rank | Self-defined ethnicity                                |   self_num_events |   self_ethnic_rank |\n",
            "|-----+---------------------------+-----------------------------+---------------------+----------------------+-------------------------------------------------------+-------------------+--------------------|\n",
            "|   0 | Person and Vehicle search | White                       |                2970 |                    1 | White - English/Welsh/Scottish/Northern Irish/British |              2580 |                  1 |\n",
            "|   1 | Person and Vehicle search | White                       |                2970 |                    1 | Other ethnic group - Not stated                       |               487 |                  2 |\n",
            "|   2 | Person and Vehicle search | White                       |                2970 |                    1 | Asian/Asian British - Pakistani                       |               347 |                  3 |\n",
            "|   3 | Person and Vehicle search | White                       |                2970 |                    1 | White - Any other White background                    |               199 |                  4 |\n",
            "|   4 | Person and Vehicle search | White                       |                2970 |                    1 | Black/African/Caribbean/Black British - Caribbean     |               139 |                  5 |\n",
            "|  60 | Person search             | White                       |               12172 |                    1 | White - English/Welsh/Scottish/Northern Irish/British |             11049 |                  1 |\n",
            "|  61 | Person search             | White                       |               12172 |                    1 | Other ethnic group - Not stated                       |              2003 |                  2 |\n",
            "|  62 | Person search             | White                       |               12172 |                    1 | White - Any other White background                    |               725 |                  3 |\n",
            "|  63 | Person search             | White                       |               12172 |                    1 | Asian/Asian British - Pakistani                       |               534 |                  4 |\n",
            "|  64 | Person search             | White                       |               12172 |                    1 | Black/African/Caribbean/Black British - African       |               464 |                  5 |\n",
            "| 120 | Vehicle search            | Unknown                     |                 505 |                    1 | Other ethnic group - Not stated                       |                83 |                  1 |\n",
            "| 121 | Vehicle search            | Unknown                     |                 505 |                    1 | White - English/Welsh/Scottish/Northern Irish/British |                 7 |                  2 |\n",
            "| 122 | Vehicle search            | Unknown                     |                 505 |                    1 | Asian/Asian British - Any other Asian background      |                 1 |                  3 |\n",
            "| 123 | Vehicle search            | Unknown                     |                 505 |                    1 | Asian/Asian British - Pakistani                       |                 1 |                  3 |\n",
            "| 124 | Vehicle search            | Unknown                     |                 505 |                    1 | White - Irish                                         |                 1 |                  3 |\n",
            "+-----+---------------------------+-----------------------------+---------------------+----------------------+-------------------------------------------------------+-------------------+--------------------+\n"
          ]
        }
      ]
    },
    {
      "cell_type": "markdown",
      "source": [
        "**5) Top 10 Type by Gender = Male.**\n",
        "Output:\n",
        "type, num_events_men, rank_men\n"
      ],
      "metadata": {
        "id": "_tJIemoVxC7_"
      }
    },
    {
      "cell_type": "code",
      "source": [
        "if combined_df is not None:\n",
        "    male_events = combined_df[combined_df['Gender'] == 'Male']\n",
        "    type_counts_men = male_events['Type'].value_counts().reset_index()\n",
        "    type_counts_men.columns = ['type', 'num_events_men']\n",
        "    type_counts_men['rank_men'] = type_counts_men['num_events_men'].rank(ascending=False, method='dense')\n",
        "    top_10_types_men = type_counts_men.head(10)\n",
        "    print(tabulate(top_10_types_men, headers='keys', tablefmt='psql'))\n",
        "else:\n",
        "    print(\"DataFrame 'combined_df' is not properly loaded. Please check file paths and data.\")\n"
      ],
      "metadata": {
        "colab": {
          "base_uri": "https://localhost:8080/"
        },
        "id": "N7F50a7oxCqX",
        "outputId": "2bfc49c1-917a-482e-f97c-4c620f35312c"
      },
      "execution_count": 50,
      "outputs": [
        {
          "output_type": "stream",
          "name": "stdout",
          "text": [
            "+----+---------------------------+------------------+------------+\n",
            "|    | type                      |   num_events_men |   rank_men |\n",
            "|----+---------------------------+------------------+------------|\n",
            "|  0 | Person search             |            13714 |          1 |\n",
            "|  1 | Person and Vehicle search |             3855 |          2 |\n",
            "|  2 | Vehicle search            |               11 |          3 |\n",
            "+----+---------------------------+------------------+------------+\n"
          ]
        }
      ]
    },
    {
      "cell_type": "markdown",
      "source": [
        "**6) Top 10 Type by Gender = Female.**\n",
        "Output:\n",
        "type, num_events_men, rank_women\n"
      ],
      "metadata": {
        "id": "OFzXRO8SxZum"
      }
    },
    {
      "cell_type": "code",
      "source": [
        "if combined_df is not None:\n",
        "    female_events = combined_df[combined_df['Gender'] == 'Female']\n",
        "    type_counts_women = female_events['Type'].value_counts().reset_index()\n",
        "    type_counts_women.columns = ['type', 'num_events_women']\n",
        "    type_counts_women['rank_women'] = type_counts_women['num_events_women'].rank(ascending=False, method='dense')\n",
        "    top_10_types_women = type_counts_women.head(10)\n",
        "    print(tabulate(top_10_types_women, headers='keys', tablefmt='psql'))\n",
        "else:\n",
        "    print(\"DataFrame 'combined_df' is not properly loaded. Please check file paths and data.\")\n"
      ],
      "metadata": {
        "colab": {
          "base_uri": "https://localhost:8080/"
        },
        "id": "MyD5e58zxZfL",
        "outputId": "28fed13d-bb47-4365-bcec-d919507cf216"
      },
      "execution_count": 51,
      "outputs": [
        {
          "output_type": "stream",
          "name": "stdout",
          "text": [
            "+----+---------------------------+--------------------+--------------+\n",
            "|    | type                      |   num_events_women |   rank_women |\n",
            "|----+---------------------------+--------------------+--------------|\n",
            "|  0 | Person search             |               1619 |            1 |\n",
            "|  1 | Person and Vehicle search |                362 |            2 |\n",
            "|  2 | Vehicle search            |                  4 |            3 |\n",
            "+----+---------------------------+--------------------+--------------+\n"
          ]
        }
      ]
    },
    {
      "cell_type": "markdown",
      "source": [
        "**7) Group bar chart plot (vertical) with output from 5 and 6.**\n",
        "[1][2]\n",
        "Bar 1 -> Male\n",
        "Bar 2 -> Female\n"
      ],
      "metadata": {
        "id": "7lthKYZLxZRI"
      }
    },
    {
      "cell_type": "code",
      "source": [
        "import matplotlib.pyplot as plt\n",
        "\n",
        "if combined_df is not None:\n",
        "    # Assuming top_10_types_men and top_10_types_women are already defined from previous code blocks\n",
        "    try:\n",
        "        # Prepare data for plotting\n",
        "        men_data = top_10_types_men.set_index('type')['num_events_men']\n",
        "        women_data = top_10_types_women.set_index('type')['num_events_women']\n",
        "\n",
        "        # Combine data, handling potential mismatches in crime types\n",
        "        combined_plot_data = pd.concat([men_data, women_data], axis=1).fillna(0)  # Fill NaN with 0\n",
        "\n",
        "        # Create the grouped bar chart\n",
        "        combined_plot_data.plot(kind='bar', figsize=(10, 6))  # Adjust figure size as needed\n",
        "        plt.title('Top 10 Crime Types by Gender')\n",
        "        plt.xlabel('Crime Type')\n",
        "        plt.ylabel('Number of Events')\n",
        "        plt.xticks(rotation=45, ha='right')  # Rotate x-axis labels for readability\n",
        "        plt.legend(['Male', 'Female'])\n",
        "        plt.tight_layout() # Adjust layout to prevent labels from overlapping\n",
        "        plt.show()\n",
        "    except NameError:\n",
        "        print(\"top_10_types_men or top_10_types_women not defined.  Run the code blocks that create these variables first.\")\n",
        "    except Exception as e:\n",
        "        print(f\"An error occurred during plotting: {e}\")\n",
        "else:\n",
        "    print(\"DataFrame 'combined_df' is not properly loaded. Please check file paths and data.\")\n"
      ],
      "metadata": {
        "colab": {
          "base_uri": "https://localhost:8080/",
          "height": 402
        },
        "id": "DVsT6-26xZCA",
        "outputId": "f78f1db1-2959-4f56-a773-5006184d53ee"
      },
      "execution_count": 52,
      "outputs": [
        {
          "output_type": "display_data",
          "data": {
            "text/plain": [
              "<Figure size 1000x600 with 1 Axes>"
            ],
            "image/png": "[encoded data removed]"
          },
          "metadata": {}
        }
      ]
    },
    {
      "cell_type": "markdown",
      "source": [
        "**8) For Gender = Male, # events by “Age range”**\n",
        "Output:\n",
        "type, age_range_male, num_events_male, rank_male\n"
      ],
      "metadata": {
        "id": "ZQfFcJW3xYyI"
      }
    },
    {
      "cell_type": "code",
      "source": [
        "if combined_df is not None:\n",
        "    male_events = combined_df[combined_df['Gender'] == 'Male']\n",
        "    age_range_counts = male_events.groupby(['Type', 'Age range']).size().reset_index(name='num_events_male')\n",
        "    age_range_counts['rank_male'] = age_range_counts.groupby('Type')['num_events_male'].rank(ascending=False, method='dense')\n",
        "    print(tabulate(age_range_counts, headers='keys', tablefmt='psql'))\n",
        "else:\n",
        "    print(\"DataFrame 'combined_df' is not properly loaded. Please check file paths and data.\")\n"
      ],
      "metadata": {
        "colab": {
          "base_uri": "https://localhost:8080/"
        },
        "id": "qRWlOjKPxYi0",
        "outputId": "a613eee6-c9c4-4b41-8a40-4cacedbc0435"
      },
      "execution_count": 53,
      "outputs": [
        {
          "output_type": "stream",
          "name": "stdout",
          "text": [
            "+----+---------------------------+-------------+-------------------+-------------+\n",
            "|    | Type                      | Age range   |   num_events_male |   rank_male |\n",
            "|----+---------------------------+-------------+-------------------+-------------|\n",
            "|  0 | Person and Vehicle search | 10-17       |               395 |           4 |\n",
            "|  1 | Person and Vehicle search | 18-24       |              1468 |           1 |\n",
            "|  2 | Person and Vehicle search | 25-34       |              1050 |           2 |\n",
            "|  3 | Person and Vehicle search | over 34     |               786 |           3 |\n",
            "|  4 | Person and Vehicle search | under 10    |                 5 |           5 |\n",
            "|  5 | Person search             | 10-17       |              3023 |           2 |\n",
            "|  6 | Person search             | 18-24       |              3905 |           1 |\n",
            "|  7 | Person search             | 25-34       |              2655 |           4 |\n",
            "|  8 | Person search             | over 34     |              2941 |           3 |\n",
            "|  9 | Person search             | under 10    |                 9 |           5 |\n",
            "| 10 | Vehicle search            | 25-34       |                 4 |           1 |\n",
            "| 11 | Vehicle search            | over 34     |                 2 |           2 |\n",
            "+----+---------------------------+-------------+-------------------+-------------+\n"
          ]
        }
      ]
    },
    {
      "cell_type": "markdown",
      "source": [
        "**9) For Gender = Female, # events by “Age range”**\n",
        "Output:\n",
        "type, age_range_female, num_events_female, rank_female\n"
      ],
      "metadata": {
        "id": "DszDIsDCyGnA"
      }
    },
    {
      "cell_type": "code",
      "source": [
        "if combined_df is not None:\n",
        "    female_events = combined_df[combined_df['Gender'] == 'Female']\n",
        "    age_range_counts_female = female_events.groupby(['Type', 'Age range']).size().reset_index(name='num_events_female')\n",
        "    age_range_counts_female['rank_female'] = age_range_counts_female.groupby('Type')['num_events_female'].rank(ascending=False, method='dense')\n",
        "    print(tabulate(age_range_counts_female, headers='keys', tablefmt='psql'))\n",
        "else:\n",
        "    print(\"DataFrame 'combined_df' is not properly loaded. Please check file paths and data.\")\n"
      ],
      "metadata": {
        "colab": {
          "base_uri": "https://localhost:8080/"
        },
        "id": "zOvAGi0UyGW8",
        "outputId": "1b4d585b-dda0-4b31-b7dd-5fce25b9f32d"
      },
      "execution_count": 54,
      "outputs": [
        {
          "output_type": "stream",
          "name": "stdout",
          "text": [
            "+----+---------------------------+-------------+---------------------+---------------+\n",
            "|    | Type                      | Age range   |   num_events_female |   rank_female |\n",
            "|----+---------------------------+-------------+---------------------+---------------|\n",
            "|  0 | Person and Vehicle search | 10-17       |                  43 |             4 |\n",
            "|  1 | Person and Vehicle search | 18-24       |                 111 |             1 |\n",
            "|  2 | Person and Vehicle search | 25-34       |                 100 |             2 |\n",
            "|  3 | Person and Vehicle search | over 34     |                  92 |             3 |\n",
            "|  4 | Person search             | 10-17       |                 324 |             4 |\n",
            "|  5 | Person search             | 18-24       |                 339 |             3 |\n",
            "|  6 | Person search             | 25-34       |                 378 |             2 |\n",
            "|  7 | Person search             | over 34     |                 427 |             1 |\n",
            "|  8 | Vehicle search            | 25-34       |                   2 |             1 |\n",
            "|  9 | Vehicle search            | over 34     |                   1 |             2 |\n",
            "+----+---------------------------+-------------+---------------------+---------------+\n"
          ]
        }
      ]
    },
    {
      "cell_type": "markdown",
      "source": [
        "**10)Merge 8 and 9 on column “type”**\n",
        "Output\n",
        "type, age_range_male, num_events_male, rank_male, age_range_female, num_events_female, rank_female\n"
      ],
      "metadata": {
        "id": "lOhVbQ9FyGB0"
      }
    },
    {
      "cell_type": "code",
      "source": [
        "if combined_df is not None:\n",
        "\n",
        "    try:\n",
        "        merged_age_range = pd.merge(age_range_counts, age_range_counts_female, on='Type', how='outer', suffixes=('_male', '_female'))\n",
        "        print(tabulate(merged_age_range.head(10), headers='keys', tablefmt='psql'))\n",
        "    except NameError:\n",
        "        print(\"age_range_counts or age_range_counts_female not defined. Run the code blocks that create these variables first.\")\n",
        "    except Exception as e:\n",
        "        print(f\"An error occurred during the merge: {e}\")\n",
        "else:\n",
        "    print(\"DataFrame 'combined_df' is not properly loaded. Please check file paths and data.\")\n"
      ],
      "metadata": {
        "colab": {
          "base_uri": "https://localhost:8080/"
        },
        "id": "ww4Vcb2vyFyc",
        "outputId": "2df5f7d2-96ed-447f-acbf-c2c4801322f7"
      },
      "execution_count": 57,
      "outputs": [
        {
          "output_type": "stream",
          "name": "stdout",
          "text": [
            "+----+---------------------------+------------------+-------------------+-------------+--------------------+---------------------+---------------+\n",
            "|    | Type                      | Age range_male   |   num_events_male |   rank_male | Age range_female   |   num_events_female |   rank_female |\n",
            "|----+---------------------------+------------------+-------------------+-------------+--------------------+---------------------+---------------|\n",
            "|  0 | Person and Vehicle search | 10-17            |               395 |           4 | 10-17              |                  43 |             4 |\n",
            "|  1 | Person and Vehicle search | 10-17            |               395 |           4 | 18-24              |                 111 |             1 |\n",
            "|  2 | Person and Vehicle search | 10-17            |               395 |           4 | 25-34              |                 100 |             2 |\n",
            "|  3 | Person and Vehicle search | 10-17            |               395 |           4 | over 34            |                  92 |             3 |\n",
            "|  4 | Person and Vehicle search | 18-24            |              1468 |           1 | 10-17              |                  43 |             4 |\n",
            "|  5 | Person and Vehicle search | 18-24            |              1468 |           1 | 18-24              |                 111 |             1 |\n",
            "|  6 | Person and Vehicle search | 18-24            |              1468 |           1 | 25-34              |                 100 |             2 |\n",
            "|  7 | Person and Vehicle search | 18-24            |              1468 |           1 | over 34            |                  92 |             3 |\n",
            "|  8 | Person and Vehicle search | 25-34            |              1050 |           2 | 10-17              |                  43 |             4 |\n",
            "|  9 | Person and Vehicle search | 25-34            |              1050 |           2 | 18-24              |                 111 |             1 |\n",
            "+----+---------------------------+------------------+-------------------+-------------+--------------------+---------------------+---------------+\n"
          ]
        }
      ]
    }
  ]
}