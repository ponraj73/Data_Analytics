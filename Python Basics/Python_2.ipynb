{
  "nbformat": 4,
  "nbformat_minor": 0,
  "metadata": {
    "colab": {
      "provenance": []
    },
    "kernelspec": {
      "name": "python3",
      "display_name": "Python 3"
    },
    "language_info": {
      "name": "python"
    }
  },
  "cells": [
    {
      "cell_type": "markdown",
      "source": [
        "BOOLEAN FUNCTIONS and OPERATORS"
      ],
      "metadata": {
        "id": "RhgplBE5XYFA"
      }
    },
    {
      "cell_type": "code",
      "source": [
        "54 < 60 and 96 > 85 #both the values must be true"
      ],
      "metadata": {
        "colab": {
          "base_uri": "https://localhost:8080/"
        },
        "id": "LBHfkA9GZLdQ",
        "outputId": "307f5e9e-e5fd-43a6-b6ec-0f428b8be132"
      },
      "execution_count": 10,
      "outputs": [
        {
          "output_type": "execute_result",
          "data": {
            "text/plain": [
              "True"
            ]
          },
          "metadata": {},
          "execution_count": 10
        }
      ]
    },
    {
      "cell_type": "code",
      "source": [
        "54 < 60 or 78 > 85 #any one of the values must be true"
      ],
      "metadata": {
        "colab": {
          "base_uri": "https://localhost:8080/"
        },
        "id": "PEEnIgF-ZVye",
        "outputId": "1275b385-b985-4b60-be21-374c33bdfbb6"
      },
      "execution_count": 11,
      "outputs": [
        {
          "output_type": "execute_result",
          "data": {
            "text/plain": [
              "True"
            ]
          },
          "metadata": {},
          "execution_count": 11
        }
      ]
    },
    {
      "cell_type": "code",
      "source": [
        "bool(1)"
      ],
      "metadata": {
        "colab": {
          "base_uri": "https://localhost:8080/"
        },
        "id": "fVAjC-BYcJm3",
        "outputId": "dadf7de0-31e2-4caa-a592-093e21dc3739"
      },
      "execution_count": 30,
      "outputs": [
        {
          "output_type": "execute_result",
          "data": {
            "text/plain": [
              "True"
            ]
          },
          "metadata": {},
          "execution_count": 30
        }
      ]
    },
    {
      "cell_type": "code",
      "source": [
        "bool(0)"
      ],
      "metadata": {
        "colab": {
          "base_uri": "https://localhost:8080/"
        },
        "id": "jMoO_udycTjK",
        "outputId": "ccf66222-3816-4ecf-c708-d7fac17e44db"
      },
      "execution_count": 31,
      "outputs": [
        {
          "output_type": "execute_result",
          "data": {
            "text/plain": [
              "False"
            ]
          },
          "metadata": {},
          "execution_count": 31
        }
      ]
    },
    {
      "cell_type": "code",
      "source": [
        "age = 25\n",
        "is_student = False\n",
        "if age > 18 and not is_student:\n",
        " print(\"You qualify for a discount.\")"
      ],
      "metadata": {
        "colab": {
          "base_uri": "https://localhost:8080/"
        },
        "id": "bA_4OmhAZktB",
        "outputId": "a0b3d57b-9edf-4e1b-efc3-7f82e7989280"
      },
      "execution_count": 12,
      "outputs": [
        {
          "output_type": "stream",
          "name": "stdout",
          "text": [
            "You qualify for a discount.\n"
          ]
        }
      ]
    },
    {
      "cell_type": "code",
      "source": [
        "username = input(\"Enter a NAME :\")\n",
        "password = input(\"Enter a password :\")\n",
        "if len(username) > 5 and \"@\" in password:\n",
        " print(\"Username is valid, and password contains '@'.\")\n",
        "else:\n",
        "  print(\"Invalid password\")"
      ],
      "metadata": {
        "colab": {
          "base_uri": "https://localhost:8080/"
        },
        "id": "pjrpX2uvaD0_",
        "outputId": "c940ae0c-be93-43ff-8b5b-9936e98d2ac7"
      },
      "execution_count": 16,
      "outputs": [
        {
          "output_type": "stream",
          "name": "stdout",
          "text": [
            "Enter a NAME :ponraj\n",
            "Enter a password :ponraj56\n",
            "Invalid password\n"
          ]
        }
      ]
    },
    {
      "cell_type": "code",
      "source": [
        "x = True\n",
        "y = False\n",
        "result = x or y  # at least one of x and y is true\n",
        "print(result)"
      ],
      "metadata": {
        "colab": {
          "base_uri": "https://localhost:8080/"
        },
        "id": "644MntFKa4Yq",
        "outputId": "b483d082-720b-479d-d52e-c36062657325"
      },
      "execution_count": 19,
      "outputs": [
        {
          "output_type": "stream",
          "name": "stdout",
          "text": [
            "True\n"
          ]
        }
      ]
    },
    {
      "cell_type": "code",
      "source": [
        "is_raining = bool(int(input(\"Enter 1 if rain else 0 = \")))\n",
        "if not is_raining:\n",
        "    print(\"You can go for a walk.\")\n",
        "else:\n",
        "  print(\"You can wait untill the rain stops\")"
      ],
      "metadata": {
        "colab": {
          "base_uri": "https://localhost:8080/"
        },
        "id": "J4wQ8UNybGtZ",
        "outputId": "7d83c291-edb3-47f5-f3d7-79dac155c173"
      },
      "execution_count": 28,
      "outputs": [
        {
          "output_type": "stream",
          "name": "stdout",
          "text": [
            "Enter 1 if rain else 0 = 0\n",
            "You can go for a walk.\n"
          ]
        }
      ]
    },
    {
      "cell_type": "code",
      "source": [
        "bool(1)"
      ],
      "metadata": {
        "colab": {
          "base_uri": "https://localhost:8080/"
        },
        "id": "SNC4wkE_b7eK",
        "outputId": "5de4dea1-3fe9-43d0-8c7d-4b5f0834bfad"
      },
      "execution_count": 26,
      "outputs": [
        {
          "output_type": "execute_result",
          "data": {
            "text/plain": [
              "True"
            ]
          },
          "metadata": {},
          "execution_count": 26
        }
      ]
    },
    {
      "cell_type": "code",
      "execution_count": 7,
      "metadata": {
        "colab": {
          "base_uri": "https://localhost:8080/"
        },
        "id": "KdOd-gtGUd7g",
        "outputId": "a597b3a8-8475-4301-9961-8d08155ffb42"
      },
      "outputs": [
        {
          "output_type": "stream",
          "name": "stdout",
          "text": [
            " number is less than or equal to 15\n"
          ]
        }
      ],
      "source": [
        "num = 12\n",
        "if bool(num > 15):  # Using bool() function to convert the condition to a boolean value\n",
        "\t print(\" number is greater than 15\")\n",
        "else:\n",
        "\t print(\" number is less than or equal to 15\")"
      ]
    },
    {
      "cell_type": "code",
      "source": [
        "a = 5\n",
        "b = 15\n",
        "c = -1\n",
        "if a > 0 and b > 0:\n",
        "    print(\"The numbers are greater than 0\")\n",
        "if a > 0 and b > 0 and c > 0:\n",
        "    print(\"The numbers are greater than 0\")\n",
        "else:\n",
        "    print(\"Atleast one number is not greater than 0\")"
      ],
      "metadata": {
        "colab": {
          "base_uri": "https://localhost:8080/"
        },
        "id": "BCRW__jcX3kR",
        "outputId": "42a564ee-2281-41b5-f7bf-d892028cbf32"
      },
      "execution_count": 8,
      "outputs": [
        {
          "output_type": "stream",
          "name": "stdout",
          "text": [
            "The numbers are greater than 0\n",
            "Atleast one number is not greater than 0\n"
          ]
        }
      ]
    },
    {
      "cell_type": "code",
      "source": [
        "a = 10\n",
        "b = 12\n",
        "c = 0\n",
        "if a and b and c:\n",
        "    print(\"All the numbers have boolean value as True\")\n",
        "else:\n",
        "    print(\"Atleast one number has boolean value as False\")"
      ],
      "metadata": {
        "colab": {
          "base_uri": "https://localhost:8080/"
        },
        "id": "rI_b5l2aYoJz",
        "outputId": "b24e1e47-58c1-465a-d6b1-6f130c779e86"
      },
      "execution_count": 9,
      "outputs": [
        {
          "output_type": "stream",
          "name": "stdout",
          "text": [
            "Atleast one number has boolean value as False\n"
          ]
        }
      ]
    },
    {
      "cell_type": "code",
      "source": [
        "div = int(input(\"enter the divisor\"))\n",
        "num = int(input(\"enter the numerator\"))\n",
        "if div != 0 and (num / div) > 1:\n",
        "    print(\"Result is greater than 1.\")\n",
        "else:\n",
        "    print(\"Error: Division by zero or result is not greater than 5.\")"
      ],
      "metadata": {
        "colab": {
          "base_uri": "https://localhost:8080/"
        },
        "id": "SmmX2G7RYzOV",
        "outputId": "4fed90eb-0edb-4ee2-d4b9-81c54e0047a8"
      },
      "execution_count": 35,
      "outputs": [
        {
          "output_type": "stream",
          "name": "stdout",
          "text": [
            "enter the divisor12\n",
            "enter the numerator45\n",
            "Result is greater than 1.\n"
          ]
        }
      ]
    },
    {
      "cell_type": "markdown",
      "source": [
        "FUNCTIONS"
      ],
      "metadata": {
        "id": "SxXos6Y7d-95"
      }
    },
    {
      "cell_type": "code",
      "source": [
        "import random\n",
        "# Generate a random number between 1 and 100 (inclusive)\n",
        "random_number = random.randint(1, 100)\n",
        "# Display the random number\n",
        "print(\"Random number:\", random_number)"
      ],
      "metadata": {
        "colab": {
          "base_uri": "https://localhost:8080/"
        },
        "id": "nUv5rm2cdE_o",
        "outputId": "0a1465d8-8988-4c58-ae3b-e57d912bf659"
      },
      "execution_count": 38,
      "outputs": [
        {
          "output_type": "stream",
          "name": "stdout",
          "text": [
            "Random number: 61\n"
          ]
        }
      ]
    },
    {
      "cell_type": "code",
      "source": [
        "import math\n",
        "square_root = math.sqrt(4)# sqrt computes the square root\n",
        "print(\"Square Root of 4 is\",square_root)\n"
      ],
      "metadata": {
        "colab": {
          "base_uri": "https://localhost:8080/"
        },
        "id": "fCQCFUSreJ01",
        "outputId": "71c165b6-989e-4349-d9af-b0be1fb3d1ba"
      },
      "execution_count": 40,
      "outputs": [
        {
          "output_type": "stream",
          "name": "stdout",
          "text": [
            "Square Root of 4 is 2.0\n"
          ]
        }
      ]
    },
    {
      "cell_type": "code",
      "source": [
        "# pow() comptes the power\n",
        "power = pow(2, 3)\n",
        "print(\"2 to the power 3 is\",power)"
      ],
      "metadata": {
        "colab": {
          "base_uri": "https://localhost:8080/"
        },
        "id": "yD1PVue9erf_",
        "outputId": "cf3d4f0b-c2e0-4c4c-fa09-fb04dd5ccc35"
      },
      "execution_count": 42,
      "outputs": [
        {
          "output_type": "stream",
          "name": "stdout",
          "text": [
            "2 to the power 3 is 8\n"
          ]
        }
      ]
    },
    {
      "cell_type": "code",
      "source": [
        "# function with two arguments\n",
        "def add_numbers(num1, num2):\n",
        "    sum = num1 + num2\n",
        "    print(\"Sum: \", sum)\n",
        "\n",
        "# function call with two values\n",
        "add_numbers(89, 40)"
      ],
      "metadata": {
        "colab": {
          "base_uri": "https://localhost:8080/"
        },
        "id": "jc_NGdfTevSm",
        "outputId": "2beec272-77d1-4d72-e685-f66bbff40e12"
      },
      "execution_count": 47,
      "outputs": [
        {
          "output_type": "stream",
          "name": "stdout",
          "text": [
            "Sum:  129\n"
          ]
        }
      ]
    },
    {
      "cell_type": "code",
      "source": [
        "def find_square(num): # function definition\n",
        "    result = num * num\n",
        "    return result\n",
        "\n",
        "square = find_square(16)# function call\n",
        "print('Square:', square)"
      ],
      "metadata": {
        "colab": {
          "base_uri": "https://localhost:8080/"
        },
        "id": "OEFxQgjqgK6C",
        "outputId": "dfac1511-1993-407d-b1e7-a66a5f10c410"
      },
      "execution_count": 46,
      "outputs": [
        {
          "output_type": "stream",
          "name": "stdout",
          "text": [
            "Square: 256\n"
          ]
        }
      ]
    },
    {
      "cell_type": "code",
      "source": [
        "#to find the factorial of a fun by recursion\n",
        "def factorial(x):\n",
        "    if x == 1:\n",
        "        return 1\n",
        "    else:\n",
        "        return (x * factorial(x-1))\n",
        "\n",
        "num = int(input(\"Enter a num :\"))\n",
        "print(\"The factorial of\", num, \"is\", factorial(num))"
      ],
      "metadata": {
        "colab": {
          "base_uri": "https://localhost:8080/"
        },
        "id": "tFhUHi5zgecN",
        "outputId": "0c7faa64-22d0-467c-a037-cfe3e456e210"
      },
      "execution_count": 49,
      "outputs": [
        {
          "output_type": "stream",
          "name": "stdout",
          "text": [
            "Enter a num :4\n",
            "The factorial of 4 is 24\n"
          ]
        }
      ]
    },
    {
      "cell_type": "markdown",
      "source": [
        "File Handling on python"
      ],
      "metadata": {
        "id": "ZRo74BMYhpGa"
      }
    },
    {
      "cell_type": "code",
      "source": [
        "f = open(\"myfile.txt\", \"x\") #creating a txt file"
      ],
      "metadata": {
        "id": "GqrucaNKhGHk"
      },
      "execution_count": 50,
      "outputs": []
    },
    {
      "cell_type": "code",
      "source": [
        "f = open(\"myfile.txt\", \"w\") #write data to the created file\n",
        "f.write(\"hello everyone...this is my new file\")"
      ],
      "metadata": {
        "id": "_Nqs5UJ8h5Dh"
      },
      "execution_count": null,
      "outputs": []
    },
    {
      "cell_type": "code",
      "source": [
        "f = open(\"myfile.txt\", \"r\")\n",
        "print(f.read()) #read the file using read()"
      ],
      "metadata": {
        "colab": {
          "base_uri": "https://localhost:8080/"
        },
        "id": "Rr-s5zUEiEyx",
        "outputId": "e2b52efa-a6d1-4df1-9d77-f86757f4261c"
      },
      "execution_count": 60,
      "outputs": [
        {
          "output_type": "stream",
          "name": "stdout",
          "text": [
            "hello everyone...this is my new file\n"
          ]
        }
      ]
    },
    {
      "cell_type": "code",
      "source": [
        "f = open(\"myfile.txt\", \"r\")\n",
        "print(f.readline())\n",
        "f.close() #closing a text file"
      ],
      "metadata": {
        "colab": {
          "base_uri": "https://localhost:8080/"
        },
        "id": "8CPmyx39i84h",
        "outputId": "93b0e4cb-06f5-459f-e9bd-6b0e9acb32bf"
      },
      "execution_count": 64,
      "outputs": [
        {
          "output_type": "stream",
          "name": "stdout",
          "text": [
            "hello everyone...this is my new file\n"
          ]
        }
      ]
    },
    {
      "cell_type": "markdown",
      "source": [
        "creating csv files"
      ],
      "metadata": {
        "id": "x4tN4p3xjjHc"
      }
    },
    {
      "cell_type": "code",
      "source": [
        "import csv\n",
        "\n",
        "with open('demo.csv', 'w', newline='') as file:\n",
        "    writer = csv.writer(file)\n",
        "    field = [\"name\", \"age\", \"country\"]\n",
        "\n",
        "    writer.writerow(field)\n",
        "    writer.writerow([\"prakash\", \"40\", \"theni\"])\n",
        "    writer.writerow([\"vishal\", \"23\", \"chennai\"])\n",
        "    writer.writerow([\"raj\", \"21\", \"rjpm\"])"
      ],
      "metadata": {
        "id": "mh6N9nkfjc5U"
      },
      "execution_count": 77,
      "outputs": []
    },
    {
      "cell_type": "code",
      "source": [
        "#reading the above created file\n",
        "with open('demo.csv', 'r') as file:\n",
        "    reader = csv.reader(file)\n",
        "\n",
        "    for row in reader:\n",
        "        print(row)"
      ],
      "metadata": {
        "colab": {
          "base_uri": "https://localhost:8080/"
        },
        "id": "FwD94w1zlqyd",
        "outputId": "8bff17fe-904f-42a4-d523-94a4662d6a69"
      },
      "execution_count": 79,
      "outputs": [
        {
          "output_type": "stream",
          "name": "stdout",
          "text": [
            "['name', 'age', 'country']\n",
            "['prakash', '40', 'theni']\n",
            "['vishal', '23', 'chennai']\n",
            "['raj', '21', 'rjpm']\n"
          ]
        }
      ]
    }
  ]
}