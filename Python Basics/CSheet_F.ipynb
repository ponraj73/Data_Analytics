{
  "nbformat": 4,
  "nbformat_minor": 0,
  "metadata": {
    "colab": {
      "provenance": []
    },
    "kernelspec": {
      "name": "python3",
      "display_name": "Python 3"
    },
    "language_info": {
      "name": "python"
    }
  },
  "cells": [
    {
      "cell_type": "markdown",
      "source": [
        "JSON (JavaScript Object Notation) is a popular data format used for representing structured data. It's common to transmit and receive data between a server and web application in JSON format.\n",
        "\n",
        "p = '{\"name\": \"Bob\", \"languages\": [\"Python\", \"Java\"]}'\n",
        "\n",
        "In the python JSON exist as a string. it is also common to store a JSON object in a file"
      ],
      "metadata": {
        "id": "VmqzlMnLzNb8"
      }
    },
    {
      "cell_type": "code",
      "source": [
        "import json\n",
        "# dictionary data to convert as a JSON object\n",
        "dict_pets = {1: 'dog', 2: 'cat',\n",
        "            3: 'horse', 4: 'elephant',\n",
        "            5: 'tiger'}\n",
        "print(type(dict_pets)) # prints \"dict\"\n",
        "js_data = json.dumps(dict_pets) # save as JSON object\n",
        "print(type(dict_pets))\n",
        "\n",
        "\n",
        "print(dict_pets)  # prints with \"\" for key-value (wrong json)\n",
        "\n",
        "\n",
        "print(js_data)  # prints with \"\" for key-value (correct json)\n",
        "\n"
      ],
      "metadata": {
        "colab": {
          "base_uri": "https://localhost:8080/"
        },
        "id": "YGFaq23Hw1NH",
        "outputId": "3e05e980-089b-4ebd-dbbc-9333ec2f686a"
      },
      "execution_count": 3,
      "outputs": [
        {
          "output_type": "stream",
          "name": "stdout",
          "text": [
            "<class 'dict'>\n",
            "<class 'str'>\n",
            "{1: 'dog', 2: 'cat', 3: 'horse', 4: 'elephant', 5: 'tiger'}\n",
            "{\"1\": \"dog\", \"2\": \"cat\", \"3\": \"horse\", \"4\": \"elephant\", \"5\": \"tiger\"}\n"
          ]
        }
      ]
    },
    {
      "cell_type": "code",
      "execution_count": 1,
      "metadata": {
        "id": "XUyIzf04HnOb",
        "colab": {
          "base_uri": "https://localhost:8080/"
        },
        "outputId": "cafe5460-d5d0-4208-cc3d-b3cf3c932ce8"
      },
      "outputs": [
        {
          "output_type": "execute_result",
          "data": {
            "text/plain": [
              "{'name': 'John', 'age': 30, 'cars': ['Ford', 'BMW', 'Fiat']}"
            ]
          },
          "metadata": {},
          "execution_count": 1
        }
      ],
      "source": [
        "#JSON file contents\n",
        " {\n",
        "\"name\":\"John\",\n",
        "\"age\":30,\n",
        "\"cars\":[\"Ford\", \"BMW\", \"Fiat\"]\n",
        "}"
      ]
    },
    {
      "cell_type": "code",
      "source": [
        "import json\n",
        "# variable \"dict_data\" declared on top of this cheat sheet\n",
        "# prints \"dict\"\n",
        "dict_data = {1: 'dog', 2: 'cat',\n",
        "            3: 'horse', 4: 'elephant',\n",
        "            5: 'tiger'}\n",
        "with open('data.json', 'w') as outfile:\n",
        "   # write \"dict_data\" object content to output file as JSON\n",
        "   json.dump(dict_data, outfile)\n",
        "\n",
        "outfile"
      ],
      "metadata": {
        "colab": {
          "base_uri": "https://localhost:8080/"
        },
        "id": "sq1zMpKFyt_j",
        "outputId": "e9e3c676-f5b4-4717-f02d-ec86fd519dbb"
      },
      "execution_count": 7,
      "outputs": [
        {
          "output_type": "execute_result",
          "data": {
            "text/plain": [
              "<_io.TextIOWrapper name='data.json' mode='w' encoding='UTF-8'>"
            ]
          },
          "metadata": {},
          "execution_count": 7
        }
      ]
    },
    {
      "cell_type": "code",
      "source": [
        "import os\n",
        "import json\n",
        "# json file name with/without path\n",
        "path_in_pet = \"data.json\"\n",
        "\n",
        "# check if file exists\n",
        "\n",
        "if os.path.exists(path_in_pet):\n",
        "   # open in read mode\n",
        "   with open(path_in_pet, 'r') as f:\n",
        "       dict_data = json.load(f)  # read data\n",
        "       print(type(dict_data))  # prints dict\n",
        "       print(dict_data) # print content"
      ],
      "metadata": {
        "colab": {
          "base_uri": "https://localhost:8080/"
        },
        "id": "x3AwwfdGzfF7",
        "outputId": "7ff4d57f-20c9-45e3-ccf9-3ad822fece06"
      },
      "execution_count": 8,
      "outputs": [
        {
          "output_type": "stream",
          "name": "stdout",
          "text": [
            "<class 'dict'>\n",
            "{'1': 'dog', '2': 'cat', '3': 'horse', '4': 'elephant', '5': 'tiger'}\n"
          ]
        }
      ]
    },
    {
      "cell_type": "code",
      "source": [
        "import pandas as pd  # Import pandas\n",
        "filea = open(\"data.json\", \"r\")\n",
        "data = json.load(filea)\n",
        "df = pd.DataFrame.from_dict(data, orient='index')\n",
        "df\n"
      ],
      "metadata": {
        "colab": {
          "base_uri": "https://localhost:8080/",
          "height": 206
        },
        "id": "IMWyQQme0cO2",
        "outputId": "d1ef194d-e0b8-4fbf-d43d-2951327380fc"
      },
      "execution_count": 15,
      "outputs": [
        {
          "output_type": "execute_result",
          "data": {
            "text/plain": [
              "          0\n",
              "1       dog\n",
              "2       cat\n",
              "3     horse\n",
              "4  elephant\n",
              "5     tiger"
            ],
            "text/html": [
              "\n",
              "  <div id=\"df-7b850ea3-e5e0-4c66-94b4-dcfab9e9641c\" class=\"colab-df-container\">\n",
              "    <div>\n",
              "<style scoped>\n",
              "    .dataframe tbody tr th:only-of-type {\n",
              "        vertical-align: middle;\n",
              "    }\n",
              "\n",
              "    .dataframe tbody tr th {\n",
              "        vertical-align: top;\n",
              "    }\n",
              "\n",
              "    .dataframe thead th {\n",
              "        text-align: right;\n",
              "    }\n",
              "</style>\n",
              "<table border=\"1\" class=\"dataframe\">\n",
              "  <thead>\n",
              "    <tr style=\"text-align: right;\">\n",
              "      <th></th>\n",
              "      <th>0</th>\n",
              "    </tr>\n",
              "  </thead>\n",
              "  <tbody>\n",
              "    <tr>\n",
              "      <th>1</th>\n",
              "      <td>dog</td>\n",
              "    </tr>\n",
              "    <tr>\n",
              "      <th>2</th>\n",
              "      <td>cat</td>\n",
              "    </tr>\n",
              "    <tr>\n",
              "      <th>3</th>\n",
              "      <td>horse</td>\n",
              "    </tr>\n",
              "    <tr>\n",
              "      <th>4</th>\n",
              "      <td>elephant</td>\n",
              "    </tr>\n",
              "    <tr>\n",
              "      <th>5</th>\n",
              "      <td>tiger</td>\n",
              "    </tr>\n",
              "  </tbody>\n",
              "</table>\n",
              "</div>\n",
              "    <div class=\"colab-df-buttons\">\n",
              "\n",
              "  <div class=\"colab-df-container\">\n",
              "    <button class=\"colab-df-convert\" onclick=\"convertToInteractive('df-7b850ea3-e5e0-4c66-94b4-dcfab9e9641c')\"\n",
              "            title=\"Convert this dataframe to an interactive table.\"\n",
              "            style=\"display:none;\">\n",
              "\n",
              "  <svg xmlns=\"http://www.w3.org/2000/svg\" height=\"24px\" viewBox=\"0 -960 960 960\">\n",
              "    <path d=\"M120-120v-720h720v720H120Zm60-500h600v-160H180v160Zm220 220h160v-160H400v160Zm0 220h160v-160H400v160ZM180-400h160v-160H180v160Zm440 0h160v-160H620v160ZM180-180h160v-160H180v160Zm440 0h160v-160H620v160Z\"/>\n",
              "  </svg>\n",
              "    </button>\n",
              "\n",
              "  <style>\n",
              "    .colab-df-container {\n",
              "      display:flex;\n",
              "      gap: 12px;\n",
              "    }\n",
              "\n",
              "    .colab-df-convert {\n",
              "      background-color: #E8F0FE;\n",
              "      border: none;\n",
              "      border-radius: 50%;\n",
              "      cursor: pointer;\n",
              "      display: none;\n",
              "      fill: #1967D2;\n",
              "      height: 32px;\n",
              "      padding: 0 0 0 0;\n",
              "      width: 32px;\n",
              "    }\n",
              "\n",
              "    .colab-df-convert:hover {\n",
              "      background-color: #E2EBFA;\n",
              "      box-shadow: 0px 1px 2px rgba(60, 64, 67, 0.3), 0px 1px 3px 1px rgba(60, 64, 67, 0.15);\n",
              "      fill: #174EA6;\n",
              "    }\n",
              "\n",
              "    .colab-df-buttons div {\n",
              "      margin-bottom: 4px;\n",
              "    }\n",
              "\n",
              "    [theme=dark] .colab-df-convert {\n",
              "      background-color: #3B4455;\n",
              "      fill: #D2E3FC;\n",
              "    }\n",
              "\n",
              "    [theme=dark] .colab-df-convert:hover {\n",
              "      background-color: #434B5C;\n",
              "      box-shadow: 0px 1px 3px 1px rgba(0, 0, 0, 0.15);\n",
              "      filter: drop-shadow(0px 1px 2px rgba(0, 0, 0, 0.3));\n",
              "      fill: #FFFFFF;\n",
              "    }\n",
              "  </style>\n",
              "\n",
              "    <script>\n",
              "      const buttonEl =\n",
              "        document.querySelector('#df-7b850ea3-e5e0-4c66-94b4-dcfab9e9641c button.colab-df-convert');\n",
              "      buttonEl.style.display =\n",
              "        google.colab.kernel.accessAllowed ? 'block' : 'none';\n",
              "\n",
              "      async function convertToInteractive(key) {\n",
              "        const element = document.querySelector('#df-7b850ea3-e5e0-4c66-94b4-dcfab9e9641c');\n",
              "        const dataTable =\n",
              "          await google.colab.kernel.invokeFunction('convertToInteractive',\n",
              "                                                    [key], {});\n",
              "        if (!dataTable) return;\n",
              "\n",
              "        const docLinkHtml = 'Like what you see? Visit the ' +\n",
              "          '<a target=\"_blank\" href=https://colab.research.google.com/notebooks/data_table.ipynb>data table notebook</a>'\n",
              "          + ' to learn more about interactive tables.';\n",
              "        element.innerHTML = '';\n",
              "        dataTable['output_type'] = 'display_data';\n",
              "        await google.colab.output.renderOutput(dataTable, element);\n",
              "        const docLink = document.createElement('div');\n",
              "        docLink.innerHTML = docLinkHtml;\n",
              "        element.appendChild(docLink);\n",
              "      }\n",
              "    </script>\n",
              "  </div>\n",
              "\n",
              "\n",
              "<div id=\"df-ff16afa6-1b54-44ff-a3f6-edfdca4a9918\">\n",
              "  <button class=\"colab-df-quickchart\" onclick=\"quickchart('df-ff16afa6-1b54-44ff-a3f6-edfdca4a9918')\"\n",
              "            title=\"Suggest charts\"\n",
              "            style=\"display:none;\">\n",
              "\n",
              "<svg xmlns=\"http://www.w3.org/2000/svg\" height=\"24px\"viewBox=\"0 0 24 24\"\n",
              "     width=\"24px\">\n",
              "    <g>\n",
              "        <path d=\"M19 3H5c-1.1 0-2 .9-2 2v14c0 1.1.9 2 2 2h14c1.1 0 2-.9 2-2V5c0-1.1-.9-2-2-2zM9 17H7v-7h2v7zm4 0h-2V7h2v10zm4 0h-2v-4h2v4z\"/>\n",
              "    </g>\n",
              "</svg>\n",
              "  </button>\n",
              "\n",
              "<style>\n",
              "  .colab-df-quickchart {\n",
              "      --bg-color: #E8F0FE;\n",
              "      --fill-color: #1967D2;\n",
              "      --hover-bg-color: #E2EBFA;\n",
              "      --hover-fill-color: #174EA6;\n",
              "      --disabled-fill-color: #AAA;\n",
              "      --disabled-bg-color: #DDD;\n",
              "  }\n",
              "\n",
              "  [theme=dark] .colab-df-quickchart {\n",
              "      --bg-color: #3B4455;\n",
              "      --fill-color: #D2E3FC;\n",
              "      --hover-bg-color: #434B5C;\n",
              "      --hover-fill-color: #FFFFFF;\n",
              "      --disabled-bg-color: #3B4455;\n",
              "      --disabled-fill-color: #666;\n",
              "  }\n",
              "\n",
              "  .colab-df-quickchart {\n",
              "    background-color: var(--bg-color);\n",
              "    border: none;\n",
              "    border-radius: 50%;\n",
              "    cursor: pointer;\n",
              "    display: none;\n",
              "    fill: var(--fill-color);\n",
              "    height: 32px;\n",
              "    padding: 0;\n",
              "    width: 32px;\n",
              "  }\n",
              "\n",
              "  .colab-df-quickchart:hover {\n",
              "    background-color: var(--hover-bg-color);\n",
              "    box-shadow: 0 1px 2px rgba(60, 64, 67, 0.3), 0 1px 3px 1px rgba(60, 64, 67, 0.15);\n",
              "    fill: var(--button-hover-fill-color);\n",
              "  }\n",
              "\n",
              "  .colab-df-quickchart-complete:disabled,\n",
              "  .colab-df-quickchart-complete:disabled:hover {\n",
              "    background-color: var(--disabled-bg-color);\n",
              "    fill: var(--disabled-fill-color);\n",
              "    box-shadow: none;\n",
              "  }\n",
              "\n",
              "  .colab-df-spinner {\n",
              "    border: 2px solid var(--fill-color);\n",
              "    border-color: transparent;\n",
              "    border-bottom-color: var(--fill-color);\n",
              "    animation:\n",
              "      spin 1s steps(1) infinite;\n",
              "  }\n",
              "\n",
              "  @keyframes spin {\n",
              "    0% {\n",
              "      border-color: transparent;\n",
              "      border-bottom-color: var(--fill-color);\n",
              "      border-left-color: var(--fill-color);\n",
              "    }\n",
              "    20% {\n",
              "      border-color: transparent;\n",
              "      border-left-color: var(--fill-color);\n",
              "      border-top-color: var(--fill-color);\n",
              "    }\n",
              "    30% {\n",
              "      border-color: transparent;\n",
              "      border-left-color: var(--fill-color);\n",
              "      border-top-color: var(--fill-color);\n",
              "      border-right-color: var(--fill-color);\n",
              "    }\n",
              "    40% {\n",
              "      border-color: transparent;\n",
              "      border-right-color: var(--fill-color);\n",
              "      border-top-color: var(--fill-color);\n",
              "    }\n",
              "    60% {\n",
              "      border-color: transparent;\n",
              "      border-right-color: var(--fill-color);\n",
              "    }\n",
              "    80% {\n",
              "      border-color: transparent;\n",
              "      border-right-color: var(--fill-color);\n",
              "      border-bottom-color: var(--fill-color);\n",
              "    }\n",
              "    90% {\n",
              "      border-color: transparent;\n",
              "      border-bottom-color: var(--fill-color);\n",
              "    }\n",
              "  }\n",
              "</style>\n",
              "\n",
              "  <script>\n",
              "    async function quickchart(key) {\n",
              "      const quickchartButtonEl =\n",
              "        document.querySelector('#' + key + ' button');\n",
              "      quickchartButtonEl.disabled = true;  // To prevent multiple clicks.\n",
              "      quickchartButtonEl.classList.add('colab-df-spinner');\n",
              "      try {\n",
              "        const charts = await google.colab.kernel.invokeFunction(\n",
              "            'suggestCharts', [key], {});\n",
              "      } catch (error) {\n",
              "        console.error('Error during call to suggestCharts:', error);\n",
              "      }\n",
              "      quickchartButtonEl.classList.remove('colab-df-spinner');\n",
              "      quickchartButtonEl.classList.add('colab-df-quickchart-complete');\n",
              "    }\n",
              "    (() => {\n",
              "      let quickchartButtonEl =\n",
              "        document.querySelector('#df-ff16afa6-1b54-44ff-a3f6-edfdca4a9918 button');\n",
              "      quickchartButtonEl.style.display =\n",
              "        google.colab.kernel.accessAllowed ? 'block' : 'none';\n",
              "    })();\n",
              "  </script>\n",
              "</div>\n",
              "\n",
              "  <div id=\"id_2bac2cc6-825c-48bb-8ce7-6db865f6ebd3\">\n",
              "    <style>\n",
              "      .colab-df-generate {\n",
              "        background-color: #E8F0FE;\n",
              "        border: none;\n",
              "        border-radius: 50%;\n",
              "        cursor: pointer;\n",
              "        display: none;\n",
              "        fill: #1967D2;\n",
              "        height: 32px;\n",
              "        padding: 0 0 0 0;\n",
              "        width: 32px;\n",
              "      }\n",
              "\n",
              "      .colab-df-generate:hover {\n",
              "        background-color: #E2EBFA;\n",
              "        box-shadow: 0px 1px 2px rgba(60, 64, 67, 0.3), 0px 1px 3px 1px rgba(60, 64, 67, 0.15);\n",
              "        fill: #174EA6;\n",
              "      }\n",
              "\n",
              "      [theme=dark] .colab-df-generate {\n",
              "        background-color: #3B4455;\n",
              "        fill: #D2E3FC;\n",
              "      }\n",
              "\n",
              "      [theme=dark] .colab-df-generate:hover {\n",
              "        background-color: #434B5C;\n",
              "        box-shadow: 0px 1px 3px 1px rgba(0, 0, 0, 0.15);\n",
              "        filter: drop-shadow(0px 1px 2px rgba(0, 0, 0, 0.3));\n",
              "        fill: #FFFFFF;\n",
              "      }\n",
              "    </style>\n",
              "    <button class=\"colab-df-generate\" onclick=\"generateWithVariable('df')\"\n",
              "            title=\"Generate code using this dataframe.\"\n",
              "            style=\"display:none;\">\n",
              "\n",
              "  <svg xmlns=\"http://www.w3.org/2000/svg\" height=\"24px\"viewBox=\"0 0 24 24\"\n",
              "       width=\"24px\">\n",
              "    <path d=\"M7,19H8.4L18.45,9,17,7.55,7,17.6ZM5,21V16.75L18.45,3.32a2,2,0,0,1,2.83,0l1.4,1.43a1.91,1.91,0,0,1,.58,1.4,1.91,1.91,0,0,1-.58,1.4L9.25,21ZM18.45,9,17,7.55Zm-12,3A5.31,5.31,0,0,0,4.9,8.1,5.31,5.31,0,0,0,1,6.5,5.31,5.31,0,0,0,4.9,4.9,5.31,5.31,0,0,0,6.5,1,5.31,5.31,0,0,0,8.1,4.9,5.31,5.31,0,0,0,12,6.5,5.46,5.46,0,0,0,6.5,12Z\"/>\n",
              "  </svg>\n",
              "    </button>\n",
              "    <script>\n",
              "      (() => {\n",
              "      const buttonEl =\n",
              "        document.querySelector('#id_2bac2cc6-825c-48bb-8ce7-6db865f6ebd3 button.colab-df-generate');\n",
              "      buttonEl.style.display =\n",
              "        google.colab.kernel.accessAllowed ? 'block' : 'none';\n",
              "\n",
              "      buttonEl.onclick = () => {\n",
              "        google.colab.notebook.generateWithVariable('df');\n",
              "      }\n",
              "      })();\n",
              "    </script>\n",
              "  </div>\n",
              "\n",
              "    </div>\n",
              "  </div>\n"
            ],
            "application/vnd.google.colaboratory.intrinsic+json": {
              "type": "dataframe",
              "variable_name": "df",
              "summary": "{\n  \"name\": \"df\",\n  \"rows\": 5,\n  \"fields\": [\n    {\n      \"column\": 0,\n      \"properties\": {\n        \"dtype\": \"string\",\n        \"num_unique_values\": 5,\n        \"samples\": [\n          \"cat\",\n          \"tiger\",\n          \"horse\"\n        ],\n        \"semantic_type\": \"\",\n        \"description\": \"\"\n      }\n    }\n  ]\n}"
            }
          },
          "metadata": {},
          "execution_count": 15
        }
      ]
    },
    {
      "cell_type": "code",
      "source": [
        "\n",
        "# Reset the index to create a column from the index\n",
        "df = df.reset_index()\n",
        "\n",
        "# Now you can change the type of the column containing the original index values\n",
        "df = df.astype({'index': 'int32'})\n",
        "print(df.dtypes)\n",
        "print(df)"
      ],
      "metadata": {
        "colab": {
          "base_uri": "https://localhost:8080/"
        },
        "id": "EfAQdzB91jAT",
        "outputId": "ee4df662-a39a-4140-a104-64fb3c35b34e"
      },
      "execution_count": 18,
      "outputs": [
        {
          "output_type": "stream",
          "name": "stdout",
          "text": [
            "level_0     int64\n",
            "index       int32\n",
            "0          object\n",
            "dtype: object\n",
            "   level_0  index         0\n",
            "0        0      1       dog\n",
            "1        1      2       cat\n",
            "2        2      3     horse\n",
            "3        3      4  elephant\n",
            "4        4      5     tiger\n"
          ]
        }
      ]
    },
    {
      "cell_type": "markdown",
      "source": [
        "Convert a variable to string/float/intege"
      ],
      "metadata": {
        "id": "lCuWE5ds2IpV"
      }
    },
    {
      "cell_type": "code",
      "source": [
        "# int to string\n",
        "age = 20\n",
        "print(\"age is \" + str(age))\n",
        "\n",
        "# int to float\n",
        "age_as_float = float(age)\n",
        "print(\"age as float is \" + str(age_as_float))\n",
        "salary = 10\n",
        "f_salary = float(salary)\n",
        "# float to int\n",
        "salary = 10.11\n",
        "# convert to integer\n",
        "i_salary = int(salary)"
      ],
      "metadata": {
        "colab": {
          "base_uri": "https://localhost:8080/"
        },
        "id": "jGCSwErv137k",
        "outputId": "baa8256c-9e90-4046-ed6a-ff8800c61a2e"
      },
      "execution_count": 21,
      "outputs": [
        {
          "output_type": "stream",
          "name": "stdout",
          "text": [
            "age is 20\n",
            "age as float is 20.0\n"
          ]
        }
      ]
    },
    {
      "cell_type": "markdown",
      "source": [
        "Conversion of string to date time (<class 'datetime.datetime'>)"
      ],
      "metadata": {
        "id": "5n4teq022MUe"
      }
    },
    {
      "cell_type": "code",
      "source": [
        "from dateutil import parser\n",
        "from datetime import datetime\n",
        "# using paser\n",
        "dt = parser.parse(\"Jun 1 2021  1:11PM\")\n",
        "print(dt)\n"
      ],
      "metadata": {
        "colab": {
          "base_uri": "https://localhost:8080/"
        },
        "id": "Win19Q2X2FnF",
        "outputId": "137ef5fb-de1d-4b19-f111-5b8068926fae"
      },
      "execution_count": 23,
      "outputs": [
        {
          "output_type": "stream",
          "name": "stdout",
          "text": [
            "2021-06-01 13:11:00\n"
          ]
        }
      ]
    },
    {
      "cell_type": "code",
      "source": [
        "# using datatime\n",
        "datetime_object = datetime.strptime('Jun 1 2021  1:11PM', '%b %d %Y %I:%M%p')\n",
        "print(datetime_object)"
      ],
      "metadata": {
        "colab": {
          "base_uri": "https://localhost:8080/"
        },
        "id": "S8IRo3OR2aGt",
        "outputId": "d7573664-0f49-4212-b6a7-51e4aae3e254"
      },
      "execution_count": 24,
      "outputs": [
        {
          "output_type": "stream",
          "name": "stdout",
          "text": [
            "2021-06-01 13:11:00\n"
          ]
        }
      ]
    },
    {
      "cell_type": "markdown",
      "source": [
        "DATA FORMATTING"
      ],
      "metadata": {
        "id": "QDMNiYhk24sh"
      }
    },
    {
      "cell_type": "code",
      "source": [
        "# using float\n",
        "amount = 20.123456789\n",
        "f_amount = float(\"{:.2f}\".format(amount))\n",
        "print(f_amount)\n"
      ],
      "metadata": {
        "colab": {
          "base_uri": "https://localhost:8080/"
        },
        "id": "I6EKW6252deY",
        "outputId": "80f8f321-ff39-4930-f161-c419b229b588"
      },
      "execution_count": 26,
      "outputs": [
        {
          "output_type": "stream",
          "name": "stdout",
          "text": [
            "20.12\n"
          ]
        }
      ]
    },
    {
      "cell_type": "code",
      "source": [
        "# by using round\n",
        "amount = 20.123456789\n",
        "f_amount =  round(amount, 2)\n",
        "print(f_amount)"
      ],
      "metadata": {
        "id": "Tu4_Wi9a2lGj"
      },
      "execution_count": null,
      "outputs": []
    },
    {
      "cell_type": "code",
      "source": [
        "from datetime import datetime\n",
        "# get current date time\n",
        "_now = datetime.now()\n",
        "print(_now)\n",
        "#in date time format\n",
        "_parsed = datetime.strptime(str(_now), \"%Y-%m-%d %H:%M:%S.%f\")\n",
        "print(_now)  # prints same date time as above print\n",
        "dt = datetime.strptime(\"21/11/06 16:30\", \"%d/%m/%y %H:%M\")\n",
        "print(dt)\n",
        "\n",
        "_year = dt.year\n",
        "# get only the value of the month. assigns _month = 11\n",
        "_month = dt.month"
      ],
      "metadata": {
        "colab": {
          "base_uri": "https://localhost:8080/"
        },
        "id": "Ea0u7IDO21rj",
        "outputId": "6ba75550-c3f5-42ec-9fcc-83e9d82dd738"
      },
      "execution_count": 27,
      "outputs": [
        {
          "output_type": "stream",
          "name": "stdout",
          "text": [
            "2024-07-04 17:47:46.682527\n",
            "2024-07-04 17:47:46.682527\n",
            "2006-11-21 16:30:00\n"
          ]
        }
      ]
    },
    {
      "cell_type": "markdown",
      "source": [
        "Data Cleaning"
      ],
      "metadata": {
        "id": "FY5pPFIV3di-"
      }
    },
    {
      "cell_type": "code",
      "source": [
        "def to_lowercase(in_str):\n",
        "   return str(in_str).lower()\n",
        "# text to be converted into string\n",
        "text = \"Hello everyon ...How are you?\"\n",
        "# convert string to lowercase\n",
        "text = to_lowercase(text)\n",
        "print(text)"
      ],
      "metadata": {
        "colab": {
          "base_uri": "https://localhost:8080/"
        },
        "id": "Y7lo-3z13b63",
        "outputId": "3a75f5f3-5483-4327-b38a-be41498654df"
      },
      "execution_count": 29,
      "outputs": [
        {
          "output_type": "stream",
          "name": "stdout",
          "text": [
            "hello everyon ...how are you?\n"
          ]
        }
      ]
    },
    {
      "cell_type": "code",
      "source": [
        "text = \"This is first line \\n This is second line\"\n",
        "print(text)\n"
      ],
      "metadata": {
        "colab": {
          "base_uri": "https://localhost:8080/"
        },
        "id": "q-GajRe83tBF",
        "outputId": "b30c3c1e-ed8b-4d7e-d0fe-6bdbafbde001"
      },
      "execution_count": 31,
      "outputs": [
        {
          "output_type": "stream",
          "name": "stdout",
          "text": [
            "This is first line \n",
            " This is second line\n"
          ]
        }
      ]
    },
    {
      "cell_type": "code",
      "source": [
        "#replace the empty space by pa new line \\n\n",
        "text_clean = text.replace(\"\\n\", \"\")\n",
        "print(text_clean)"
      ],
      "metadata": {
        "colab": {
          "base_uri": "https://localhost:8080/"
        },
        "id": "XjgwYAVC37Go",
        "outputId": "ff447af4-fea6-40f3-f2cb-24d429c76672"
      },
      "execution_count": 33,
      "outputs": [
        {
          "output_type": "stream",
          "name": "stdout",
          "text": [
            "This is first line  This is second line\n"
          ]
        }
      ]
    },
    {
      "cell_type": "code",
      "source": [
        "#Remove non-alpha numeric characters (Regex)\n",
        "\n",
        "import re\n",
        "in_str = \"Hi, what's your name ? & Where are you from? \"\n",
        "str_clean = re.sub(r'\\W+', ' ', in_str)\n",
        "# clean the unwanted things and prints only the text\n",
        "print(str_clean)\n"
      ],
      "metadata": {
        "colab": {
          "base_uri": "https://localhost:8080/"
        },
        "id": "PT5wqTGI4Pja",
        "outputId": "9cf97215-324c-4cd9-aefb-8ee2f02db0f5"
      },
      "execution_count": 36,
      "outputs": [
        {
          "output_type": "stream",
          "name": "stdout",
          "text": [
            "Hi what s your name Where are you from \n"
          ]
        }
      ]
    },
    {
      "cell_type": "code",
      "source": [
        "# dictionary that helps to normalise\n",
        "dict_norm = {\"puppyhood\": \"dog\",\n",
        "         \t\"puppyish\": \"dog\",\n",
        "         \t\"puppylike\": \"dog\"\n",
        "        \t}\n",
        "# dictionary that needs transformation in its value\n",
        "dict_species = {\"caesar\": \"puppyhood\", \"ryan\": \"dog\", \"leela\": \"cat\"}\n",
        "# create new dictionary to hold the normalised output\n",
        "dict_species_norm = {}\n",
        "# iterate items in dict\n",
        "for key, value in dict_species.items():\n",
        "\t# if value exists in key of dict_norm\n",
        "\tif value in dict_norm.keys():\n",
        "    \t   dict_species_norm[key] = dict_norm[value]\n",
        "\t# if value does not exist in key of dict_norm\n",
        "\telse:\n",
        "    \t   dict_species_norm[key] = value\n",
        "# prints -> {\"caesar\": \"dog\", \"ryan\": \"dog\", \"leela\": \"cat\"}\n",
        "print(dict_species_norm)"
      ],
      "metadata": {
        "colab": {
          "base_uri": "https://localhost:8080/"
        },
        "id": "Rbjy2JwF48zO",
        "outputId": "7632b3e1-5d48-4465-bdab-be984334c9d9"
      },
      "execution_count": 44,
      "outputs": [
        {
          "output_type": "stream",
          "name": "stdout",
          "text": [
            "{'caesar': 'dog', 'ryan': 'dog', 'leela': 'cat'}\n"
          ]
        }
      ]
    },
    {
      "cell_type": "code",
      "source": [
        "import pandas as pd\n",
        "from tabulate import tabulate\n",
        "\n",
        "def pretty_print(title, df, n):\n",
        "    print(title, \"\\n\", tabulate(df.head(n), headers='keys', tablefmt='psql'))\n",
        "\n",
        "# first df\n",
        "df_1 = pd.DataFrame({'id': ['A01', 'A02', 'A03', 'A04'],\n",
        "                   'Name': ['Dog', 'Cat', 'Eagle', 'Peacock']\n",
        "                    })\n",
        "pretty_print(\"df_1:\", df_1, 10)\n",
        "# second df\n",
        "df_2 = pd.DataFrame({\n",
        "                   'id' : ['A01', 'A06', 'A02', 'A07'],\n",
        "                   'City': ['SFO', 'Chennai', 'NYC', 'Bangalore'],\n",
        "                   'Age': ['12', '13', '14', '12']})\n",
        "pretty_print(\"df_2:\", df_2, 10)\n",
        "# outer join => outputs all rows from both dataframes\n",
        "df_new = pd.merge(df_1, df_2, on='id', how='outer')\n",
        "pretty_print(\"merged outer:\", df_new, 10)\n",
        "# inner join (equi join) => outputs common intersect\n",
        "df_new = pd.merge(df_1, df_2, on='id', how='inner')\n",
        "pretty_print(\"merged inner:\", df_new, 10)\n"
      ],
      "metadata": {
        "colab": {
          "base_uri": "https://localhost:8080/"
        },
        "id": "EAl0pBJh6rz7",
        "outputId": "6f84fd1d-c370-49d1-a2a9-819ce1ffd83d"
      },
      "execution_count": 49,
      "outputs": [
        {
          "output_type": "stream",
          "name": "stdout",
          "text": [
            "df_1: \n",
            " +----+------+---------+\n",
            "|    | id   | Name    |\n",
            "|----+------+---------|\n",
            "|  0 | A01  | Dog     |\n",
            "|  1 | A02  | Cat     |\n",
            "|  2 | A03  | Eagle   |\n",
            "|  3 | A04  | Peacock |\n",
            "+----+------+---------+\n",
            "df_2: \n",
            " +----+------+-----------+-------+\n",
            "|    | id   | City      |   Age |\n",
            "|----+------+-----------+-------|\n",
            "|  0 | A01  | SFO       |    12 |\n",
            "|  1 | A06  | Chennai   |    13 |\n",
            "|  2 | A02  | NYC       |    14 |\n",
            "|  3 | A07  | Bangalore |    12 |\n",
            "+----+------+-----------+-------+\n",
            "merged outer: \n",
            " +----+------+---------+-----------+-------+\n",
            "|    | id   | Name    | City      |   Age |\n",
            "|----+------+---------+-----------+-------|\n",
            "|  0 | A01  | Dog     | SFO       |    12 |\n",
            "|  1 | A02  | Cat     | NYC       |    14 |\n",
            "|  2 | A03  | Eagle   | nan       |   nan |\n",
            "|  3 | A04  | Peacock | nan       |   nan |\n",
            "|  4 | A06  | nan     | Chennai   |    13 |\n",
            "|  5 | A07  | nan     | Bangalore |    12 |\n",
            "+----+------+---------+-----------+-------+\n",
            "merged inner: \n",
            " +----+------+--------+--------+-------+\n",
            "|    | id   | Name   | City   |   Age |\n",
            "|----+------+--------+--------+-------|\n",
            "|  0 | A01  | Dog    | SFO    |    12 |\n",
            "|  1 | A02  | Cat    | NYC    |    14 |\n",
            "+----+------+--------+--------+-------+\n"
          ]
        }
      ]
    }
  ]
}